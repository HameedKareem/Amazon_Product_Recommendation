{
 "cells": [
  {
   "cell_type": "code",
   "execution_count": 1,
   "metadata": {
    "colab": {
     "base_uri": "https://localhost:8080/"
    },
    "id": "ECBEhnHVROlR",
    "outputId": "832e4e0a-9d3a-497a-ccb7-767e3220c5f3"
   },
   "outputs": [
    {
     "name": "stdout",
     "output_type": "stream",
     "text": [
      "Collecting surprise\n",
      "  Downloading surprise-0.1-py2.py3-none-any.whl.metadata (327 bytes)\n",
      "Collecting scikit-surprise (from surprise)\n",
      "  Downloading scikit-surprise-1.1.3.tar.gz (771 kB)\n",
      "\u001b[2K     \u001b[90m━━━━━━━━━━━━━━━━━━━━━━━━━━━━━━━━━━━━━━━\u001b[0m \u001b[32m772.0/772.0 kB\u001b[0m \u001b[31m5.3 MB/s\u001b[0m eta \u001b[36m0:00:00\u001b[0m00:01\u001b[0m00:01\u001b[0m\n",
      "\u001b[?25h  Preparing metadata (setup.py) ... \u001b[?25ldone\n",
      "\u001b[?25hRequirement already satisfied: joblib>=1.0.0 in /Users/hameed/opt/anaconda3/lib/python3.9/site-packages (from scikit-surprise->surprise) (1.1.0)\n",
      "Requirement already satisfied: numpy>=1.17.3 in /Users/hameed/opt/anaconda3/lib/python3.9/site-packages (from scikit-surprise->surprise) (1.20.3)\n",
      "Requirement already satisfied: scipy>=1.3.2 in /Users/hameed/opt/anaconda3/lib/python3.9/site-packages (from scikit-surprise->surprise) (1.7.3)\n",
      "Downloading surprise-0.1-py2.py3-none-any.whl (1.8 kB)\n",
      "Building wheels for collected packages: scikit-surprise\n",
      "  Building wheel for scikit-surprise (setup.py) ... \u001b[?25ldone\n",
      "\u001b[?25h  Created wheel for scikit-surprise: filename=scikit_surprise-1.1.3-cp39-cp39-macosx_10_9_x86_64.whl size=1147567 sha256=b399fe1cb8dab01e3a8d6ca14292a2a31a32ebd6afd353e58b8af633e48e4bbe\n",
      "  Stored in directory: /Users/hameed/Library/Caches/pip/wheels/c6/3a/46/9b17b3512bdf283c6cb84f59929cdd5199d4e754d596d22784\n",
      "Successfully built scikit-surprise\n",
      "\u001b[33mDEPRECATION: pyodbc 4.0.0-unsupported has a non-standard version number. pip 24.0 will enforce this behaviour change. A possible replacement is to upgrade to a newer version of pyodbc or contact the author to suggest that they release a version with a conforming version number. Discussion can be found at https://github.com/pypa/pip/issues/12063\u001b[0m\u001b[33m\n",
      "\u001b[0mInstalling collected packages: scikit-surprise, surprise\n",
      "Successfully installed scikit-surprise-1.1.3 surprise-0.1\n"
     ]
    }
   ],
   "source": [
    "# Installing surprise library, only do it for first time\n",
    "!pip install surprise"
   ]
  },
  {
   "cell_type": "code",
   "execution_count": 2,
   "metadata": {
    "id": "Gem2ozi_vOOG"
   },
   "outputs": [],
   "source": [
    "# Used to ignore the warning given as output of the code\n",
    "import warnings                                 \n",
    "warnings.filterwarnings('ignore')\n",
    "\n",
    "# Basic libraries of python for numeric and dataframe computations\n",
    "import numpy as np                              \n",
    "import pandas as pd\n",
    "\n",
    "# Basic library for data visualization\n",
    "import matplotlib.pyplot as plt     \n",
    "\n",
    "# Slightly advanced library for data visualization            \n",
    "import seaborn as sns                           \n",
    "\n",
    "# A dictionary output that does not raise a key error\n",
    "from collections import defaultdict             \n",
    "\n",
    "# A performance metrics in surprise\n",
    "from surprise import accuracy\n",
    "\n",
    "# Class is used to parse a file containing ratings, data should be in structure - user ; item ; rating\n",
    "from surprise.reader import Reader\n",
    "\n",
    "# Class for loading datasets\n",
    "from surprise.dataset import Dataset\n",
    "\n",
    "# For model tuning model hyper-parameters\n",
    "from surprise.model_selection import GridSearchCV\n",
    "\n",
    "# For splitting the rating data in train and test dataset\n",
    "from surprise.model_selection import train_test_split\n",
    "\n",
    "# For implementing similarity based recommendation system\n",
    "from surprise.prediction_algorithms.knns import KNNBasic\n",
    "\n",
    "# For implementing matrix factorization based recommendation system\n",
    "from surprise.prediction_algorithms.matrix_factorization import SVD\n",
    "\n",
    "# For implementing cross validation\n",
    "from surprise.model_selection import KFold"
   ]
  },
  {
   "cell_type": "markdown",
   "metadata": {
    "id": "ewHMWerQ2N9T"
   },
   "source": [
    "### **Loading the data**"
   ]
  },
  {
   "cell_type": "code",
   "execution_count": 4,
   "metadata": {
    "id": "EdQIx3OLvOOG"
   },
   "outputs": [],
   "source": [
    "# Import the dataset\n",
    "rating = pd.read_csv('ratings_Electronics.csv', names=['user_id', 'item_id', 'rating', 'timestamp'])\n",
    "rating = rating.drop('timestamp', axis=1) # Dropping timestamp"
   ]
  },
  {
   "cell_type": "code",
   "execution_count": 5,
   "metadata": {},
   "outputs": [
    {
     "data": {
      "text/html": [
       "<div>\n",
       "<style scoped>\n",
       "    .dataframe tbody tr th:only-of-type {\n",
       "        vertical-align: middle;\n",
       "    }\n",
       "\n",
       "    .dataframe tbody tr th {\n",
       "        vertical-align: top;\n",
       "    }\n",
       "\n",
       "    .dataframe thead th {\n",
       "        text-align: right;\n",
       "    }\n",
       "</style>\n",
       "<table border=\"1\" class=\"dataframe\">\n",
       "  <thead>\n",
       "    <tr style=\"text-align: right;\">\n",
       "      <th></th>\n",
       "      <th>user_id</th>\n",
       "      <th>item_id</th>\n",
       "      <th>rating</th>\n",
       "    </tr>\n",
       "  </thead>\n",
       "  <tbody>\n",
       "    <tr>\n",
       "      <th>0</th>\n",
       "      <td>AKM1MP6P0OYPR</td>\n",
       "      <td>0132793040</td>\n",
       "      <td>5.0</td>\n",
       "    </tr>\n",
       "    <tr>\n",
       "      <th>1</th>\n",
       "      <td>A2CX7LUOHB2NDG</td>\n",
       "      <td>0321732944</td>\n",
       "      <td>5.0</td>\n",
       "    </tr>\n",
       "    <tr>\n",
       "      <th>2</th>\n",
       "      <td>A2NWSAGRHCP8N5</td>\n",
       "      <td>0439886341</td>\n",
       "      <td>1.0</td>\n",
       "    </tr>\n",
       "    <tr>\n",
       "      <th>3</th>\n",
       "      <td>A2WNBOD3WNDNKT</td>\n",
       "      <td>0439886341</td>\n",
       "      <td>3.0</td>\n",
       "    </tr>\n",
       "    <tr>\n",
       "      <th>4</th>\n",
       "      <td>A1GI0U4ZRJA8WN</td>\n",
       "      <td>0439886341</td>\n",
       "      <td>1.0</td>\n",
       "    </tr>\n",
       "  </tbody>\n",
       "</table>\n",
       "</div>"
      ],
      "text/plain": [
       "          user_id     item_id  rating\n",
       "0   AKM1MP6P0OYPR  0132793040     5.0\n",
       "1  A2CX7LUOHB2NDG  0321732944     5.0\n",
       "2  A2NWSAGRHCP8N5  0439886341     1.0\n",
       "3  A2WNBOD3WNDNKT  0439886341     3.0\n",
       "4  A1GI0U4ZRJA8WN  0439886341     1.0"
      ]
     },
     "execution_count": 5,
     "metadata": {},
     "output_type": "execute_result"
    }
   ],
   "source": [
    "rating.head()"
   ]
  },
  {
   "cell_type": "code",
   "execution_count": 6,
   "metadata": {
    "colab": {
     "base_uri": "https://localhost:8080/"
    },
    "id": "8zF1K1hDvOOG",
    "outputId": "a5a02aac-7b7c-4f9f-a14c-9651283029ef"
   },
   "outputs": [
    {
     "name": "stdout",
     "output_type": "stream",
     "text": [
      "<class 'pandas.core.frame.DataFrame'>\n",
      "RangeIndex: 7824482 entries, 0 to 7824481\n",
      "Data columns (total 3 columns):\n",
      " #   Column   Dtype  \n",
      "---  ------   -----  \n",
      " 0   user_id  object \n",
      " 1   item_id  object \n",
      " 2   rating   float64\n",
      "dtypes: float64(1), object(2)\n",
      "memory usage: 179.1+ MB\n"
     ]
    }
   ],
   "source": [
    "rating.info()"
   ]
  },
  {
   "cell_type": "markdown",
   "metadata": {
    "id": "202Ux9MH2N9f"
   },
   "source": [
    "- There are **7824482 samples** and **4 features** in the data."
   ]
  },
  {
   "cell_type": "code",
   "execution_count": 7,
   "metadata": {
    "colab": {
     "base_uri": "https://localhost:8080/",
     "height": 293
    },
    "id": "gNJzJWjj6Z1T",
    "outputId": "cf8dad51-7ded-4317-a1cd-c8eb6216bcef"
   },
   "outputs": [
    {
     "data": {
      "image/png": "[encoded data removed]",
      "text/plain": [
       "<Figure size 864x288 with 1 Axes>"
      ]
     },
     "metadata": {
      "needs_background": "light"
     },
     "output_type": "display_data"
    }
   ],
   "source": [
    "plt.figure(figsize = (12, 4))\n",
    "sns.countplot(x=\"rating\", data=rating)\n",
    "\n",
    "plt.tick_params(labelsize = 10)\n",
    "plt.title(\"Distribution of Ratings \", fontsize = 10)\n",
    "plt.xlabel(\"Ratings\", fontsize = 10)\n",
    "plt.ylabel(\"Number of Ratings\", fontsize = 10)\n",
    "plt.ticklabel_format(useOffset=False, style='plain', axis='y')\n",
    "plt.show()"
   ]
  },
  {
   "cell_type": "code",
   "execution_count": 8,
   "metadata": {
    "id": "_qjF5IUVROlW"
   },
   "outputs": [],
   "source": [
    "# Copying the data to another DataFrame\n",
    "df=rating.copy()"
   ]
  },
  {
   "cell_type": "code",
   "execution_count": 9,
   "metadata": {
    "id": "DW-Ju69NhFXy"
   },
   "outputs": [],
   "source": [
    "# Get the column containing the users\n",
    "users = rating.user_id\n",
    "# Create a dictionary from users to their number of ratings\n",
    "ratings_count = dict()\n",
    "for user in users:\n",
    "    # If we already have the user, just add 1 to their rating count\n",
    "    if user in ratings_count:\n",
    "        ratings_count[user] += 1\n",
    "    # Otherwise, set their rating count to 1\n",
    "    else:\n",
    "        ratings_count[user] = 1    "
   ]
  },
  {
   "cell_type": "code",
   "execution_count": 10,
   "metadata": {
    "id": "zWhzrLu-hFXy"
   },
   "outputs": [],
   "source": [
    "# We want our users to have at least 50 ratings to be considred\n",
    "RATINGS_CUTOFF = 50\n",
    "remove_users = []\n",
    "for user, num_ratings in ratings_count.items():\n",
    "    if num_ratings < RATINGS_CUTOFF:\n",
    "        remove_users.append(user)\n",
    "rating = rating.loc[~rating.user_id.isin(remove_users)]"
   ]
  },
  {
   "cell_type": "code",
   "execution_count": 11,
   "metadata": {
    "colab": {
     "base_uri": "https://localhost:8080/"
    },
    "id": "XktiDwuz6Z1U",
    "outputId": "156cf320-6543-435f-e075-be2b9a55c59d"
   },
   "outputs": [
    {
     "data": {
      "text/plain": [
       "(125871, 3)"
      ]
     },
     "execution_count": 11,
     "metadata": {},
     "output_type": "execute_result"
    }
   ],
   "source": [
    "rating.shape"
   ]
  },
  {
   "cell_type": "code",
   "execution_count": 12,
   "metadata": {
    "id": "R_q30TRDROlX"
   },
   "outputs": [],
   "source": [
    "# Get the column containing the users\n",
    "items = rating.item_id\n",
    "# Create a dictionary from users to their number of ratings\n",
    "ratings_count = dict()\n",
    "for item in items:\n",
    "    # If we already have the user, just add 1 to their rating count\n",
    "    if item in ratings_count:\n",
    "        ratings_count[item] += 1\n",
    "    # Otherwise, set their rating count to 1\n",
    "    else:\n",
    "        ratings_count[item] = 1    "
   ]
  },
  {
   "cell_type": "code",
   "execution_count": 13,
   "metadata": {
    "id": "ZfrKNYv5ROlY"
   },
   "outputs": [],
   "source": [
    "# We want our item to have at least 5 ratings to be considred\n",
    "RATINGS_CUTOFF = 5\n",
    "remove_items = []\n",
    "for item, num_ratings in ratings_count.items():\n",
    "    if num_ratings < RATINGS_CUTOFF:\n",
    "        remove_items.append(item)\n",
    "rating = rating.loc[~rating.item_id.isin(remove_items)]"
   ]
  },
  {
   "cell_type": "code",
   "execution_count": 14,
   "metadata": {
    "colab": {
     "base_uri": "https://localhost:8080/"
    },
    "id": "j0IfTeB9ROlY",
    "outputId": "407e916c-7d94-472f-f46c-b8b39e60c4c5"
   },
   "outputs": [
    {
     "data": {
      "text/plain": [
       "(65290, 3)"
      ]
     },
     "execution_count": 14,
     "metadata": {},
     "output_type": "execute_result"
    }
   ],
   "source": [
    "rating.shape"
   ]
  },
  {
   "cell_type": "code",
   "execution_count": 15,
   "metadata": {
    "colab": {
     "base_uri": "https://localhost:8080/"
    },
    "id": "RMpbsZGGvOOH",
    "outputId": "2c0a61de-9aad-4d7d-81f7-87ca9f78bb10"
   },
   "outputs": [
    {
     "data": {
      "text/plain": [
       "1540"
      ]
     },
     "execution_count": 15,
     "metadata": {},
     "output_type": "execute_result"
    }
   ],
   "source": [
    "# Finding number of unique users\n",
    "rating['user_id'].nunique()"
   ]
  },
  {
   "cell_type": "code",
   "execution_count": 16,
   "metadata": {
    "colab": {
     "base_uri": "https://localhost:8080/"
    },
    "id": "9A6Qmo_6vOOH",
    "outputId": "fcad9ecd-80c7-4444-ca60-56ff68b14410"
   },
   "outputs": [
    {
     "data": {
      "text/plain": [
       "5689"
      ]
     },
     "execution_count": 16,
     "metadata": {},
     "output_type": "execute_result"
    }
   ],
   "source": [
    "# Finding number of unique items\n",
    "rating['item_id'].nunique()"
   ]
  },
  {
   "cell_type": "code",
   "execution_count": 17,
   "metadata": {
    "colab": {
     "base_uri": "https://localhost:8080/",
     "height": 455
    },
    "id": "xstEDCVfvOOH",
    "outputId": "defd1ed6-4181-47d5-c5d7-5d659ebb69a0"
   },
   "outputs": [
    {
     "data": {
      "text/html": [
       "<div>\n",
       "<style scoped>\n",
       "    .dataframe tbody tr th:only-of-type {\n",
       "        vertical-align: middle;\n",
       "    }\n",
       "\n",
       "    .dataframe tbody tr th {\n",
       "        vertical-align: top;\n",
       "    }\n",
       "\n",
       "    .dataframe thead th {\n",
       "        text-align: right;\n",
       "    }\n",
       "</style>\n",
       "<table border=\"1\" class=\"dataframe\">\n",
       "  <thead>\n",
       "    <tr style=\"text-align: right;\">\n",
       "      <th></th>\n",
       "      <th></th>\n",
       "      <th>rating</th>\n",
       "    </tr>\n",
       "    <tr>\n",
       "      <th>user_id</th>\n",
       "      <th>item_id</th>\n",
       "      <th></th>\n",
       "    </tr>\n",
       "  </thead>\n",
       "  <tbody>\n",
       "    <tr>\n",
       "      <th rowspan=\"5\" valign=\"top\">A100UD67AHFODS</th>\n",
       "      <th>B00004Z5M1</th>\n",
       "      <td>1</td>\n",
       "    </tr>\n",
       "    <tr>\n",
       "      <th>B0001D3K8A</th>\n",
       "      <td>1</td>\n",
       "    </tr>\n",
       "    <tr>\n",
       "      <th>B000233WJ6</th>\n",
       "      <td>1</td>\n",
       "    </tr>\n",
       "    <tr>\n",
       "      <th>B0002KVQBA</th>\n",
       "      <td>1</td>\n",
       "    </tr>\n",
       "    <tr>\n",
       "      <th>B0002SQ2P2</th>\n",
       "      <td>1</td>\n",
       "    </tr>\n",
       "    <tr>\n",
       "      <th>...</th>\n",
       "      <th>...</th>\n",
       "      <td>...</td>\n",
       "    </tr>\n",
       "    <tr>\n",
       "      <th rowspan=\"5\" valign=\"top\">AZOK5STV85FBJ</th>\n",
       "      <th>B005PQTYHE</th>\n",
       "      <td>1</td>\n",
       "    </tr>\n",
       "    <tr>\n",
       "      <th>B006MPRFJQ</th>\n",
       "      <td>1</td>\n",
       "    </tr>\n",
       "    <tr>\n",
       "      <th>B00AANMVNQ</th>\n",
       "      <td>1</td>\n",
       "    </tr>\n",
       "    <tr>\n",
       "      <th>B00B25P27S</th>\n",
       "      <td>1</td>\n",
       "    </tr>\n",
       "    <tr>\n",
       "      <th>B00FB2XNCE</th>\n",
       "      <td>1</td>\n",
       "    </tr>\n",
       "  </tbody>\n",
       "</table>\n",
       "<p>65290 rows × 1 columns</p>\n",
       "</div>"
      ],
      "text/plain": [
       "                           rating\n",
       "user_id        item_id           \n",
       "A100UD67AHFODS B00004Z5M1       1\n",
       "               B0001D3K8A       1\n",
       "               B000233WJ6       1\n",
       "               B0002KVQBA       1\n",
       "               B0002SQ2P2       1\n",
       "...                           ...\n",
       "AZOK5STV85FBJ  B005PQTYHE       1\n",
       "               B006MPRFJQ       1\n",
       "               B00AANMVNQ       1\n",
       "               B00B25P27S       1\n",
       "               B00FB2XNCE       1\n",
       "\n",
       "[65290 rows x 1 columns]"
      ]
     },
     "execution_count": 17,
     "metadata": {},
     "output_type": "execute_result"
    }
   ],
   "source": [
    "rating.groupby(['user_id', 'item_id']).count()"
   ]
  },
  {
   "cell_type": "code",
   "execution_count": 18,
   "metadata": {
    "colab": {
     "base_uri": "https://localhost:8080/"
    },
    "id": "d1E2i5rZvOOI",
    "outputId": "9f69fe79-18b4-4659-8f6c-091ce7a5c1f0"
   },
   "outputs": [
    {
     "data": {
      "text/plain": [
       "65290"
      ]
     },
     "execution_count": 18,
     "metadata": {},
     "output_type": "execute_result"
    }
   ],
   "source": [
    "rating.groupby(['user_id', 'item_id']).count()['rating'].sum()"
   ]
  },
  {
   "cell_type": "code",
   "execution_count": 19,
   "metadata": {
    "colab": {
     "base_uri": "https://localhost:8080/"
    },
    "id": "4LBbXdoDvOOI",
    "outputId": "a80d114e-5683-4d3b-e6f9-30f32e385a91"
   },
   "outputs": [
    {
     "data": {
      "text/plain": [
       "B0088CJT4U    206\n",
       "B003ES5ZUU    184\n",
       "B000N99BBC    167\n",
       "B007WTAJTO    164\n",
       "B00829TIEK    149\n",
       "             ... \n",
       "B00368CDH6      5\n",
       "B0036AZA6A      5\n",
       "B0036E8V08      5\n",
       "B0036QL1JY      5\n",
       "B00LGQ6HL8      5\n",
       "Name: item_id, Length: 5689, dtype: int64"
      ]
     },
     "execution_count": 19,
     "metadata": {},
     "output_type": "execute_result"
    }
   ],
   "source": [
    "rating['item_id'].value_counts()"
   ]
  },
  {
   "cell_type": "code",
   "execution_count": 20,
   "metadata": {
    "colab": {
     "base_uri": "https://localhost:8080/",
     "height": 448
    },
    "id": "fVkc1FK22N9r",
    "outputId": "e0a9036c-9f58-4c04-e23d-c9843667fb14"
   },
   "outputs": [
    {
     "data": {
      "image/png": "[encoded data removed]",
      "text/plain": [
       "<Figure size 504x504 with 1 Axes>"
      ]
     },
     "metadata": {
      "needs_background": "light"
     },
     "output_type": "display_data"
    }
   ],
   "source": [
    "# Plotting distributions of ratings for 74 interactions with itemid B0088CJT4U\n",
    "plt.figure(figsize=(7,7))\n",
    "\n",
    "rating[rating['item_id'] == 'B0088CJT4U']['rating'].value_counts().plot(kind='bar')\n",
    "\n",
    "plt.xlabel('Rating')\n",
    "\n",
    "plt.ylabel('Count')\n",
    "\n",
    "plt.show()"
   ]
  },
  {
   "cell_type": "code",
   "execution_count": 21,
   "metadata": {
    "colab": {
     "base_uri": "https://localhost:8080/"
    },
    "id": "t7ehlMLDvOOI",
    "outputId": "2c99b557-a5bf-4abd-f656-7da449ac5c76"
   },
   "outputs": [
    {
     "data": {
      "text/plain": [
       "ADLVFFE4VBT8      295\n",
       "A3OXHLG6DIBRW8    230\n",
       "A1ODOGXEYECQQ8    217\n",
       "A36K2N527TXXJN    212\n",
       "A25C2M3QF9G7OQ    203\n",
       "                 ... \n",
       "A16CVJUQOB6GIB      2\n",
       "A2BGZ52M908MJY      2\n",
       "A3DL29NLZ7SXXG      1\n",
       "AP2NZAALUQKF5       1\n",
       "A3MV1KKHX51FYT      1\n",
       "Name: user_id, Length: 1540, dtype: int64"
      ]
     },
     "execution_count": 21,
     "metadata": {},
     "output_type": "execute_result"
    }
   ],
   "source": [
    "rating['user_id'].value_counts()"
   ]
  },
  {
   "cell_type": "code",
   "execution_count": 22,
   "metadata": {
    "colab": {
     "base_uri": "https://localhost:8080/"
    },
    "id": "0XArWJ7l2N9v",
    "outputId": "1fed1e5f-7d55-4051-a0e5-913c1f8d0f04"
   },
   "outputs": [
    {
     "data": {
      "text/plain": [
       "user_id\n",
       "A100UD67AHFODS     53\n",
       "A100WO06OQR8BQ     77\n",
       "A105S56ODHGJEK     58\n",
       "A105TOJ6LTVMBG     32\n",
       "A10AFVU66A79Y1     47\n",
       "                 ... \n",
       "AZBXKUH4AIW3X      22\n",
       "AZCE11PSTCH1L      23\n",
       "AZMY6E8B52L2T     105\n",
       "AZNUHQSHZHSUE      30\n",
       "AZOK5STV85FBJ      14\n",
       "Name: item_id, Length: 1540, dtype: int64"
      ]
     },
     "execution_count": 22,
     "metadata": {},
     "output_type": "execute_result"
    }
   ],
   "source": [
    "# Finding user-item interactions distribution\n",
    "count_interactions = rating.groupby('user_id').count()['item_id']\n",
    "count_interactions"
   ]
  },
  {
   "cell_type": "code",
   "execution_count": 23,
   "metadata": {
    "colab": {
     "base_uri": "https://localhost:8080/",
     "height": 443
    },
    "id": "JoNCRm88vOOI",
    "outputId": "7627bdb0-3a64-4066-9703-56ccb436b057"
   },
   "outputs": [
    {
     "data": {
      "image/png": "[encoded data removed]",
      "text/plain": [
       "<Figure size 1080x504 with 1 Axes>"
      ]
     },
     "metadata": {
      "needs_background": "light"
     },
     "output_type": "display_data"
    }
   ],
   "source": [
    "# Plotting user-item interactions distribution\n",
    "plt.figure(figsize=(15,7))\n",
    "\n",
    "sns.histplot(count_interactions)\n",
    "\n",
    "plt.xlabel('Number of Interactions by Users')\n",
    "\n",
    "plt.show()"
   ]
  },
  {
   "cell_type": "code",
   "execution_count": 24,
   "metadata": {
    "id": "xuMR3XFIvOOK"
   },
   "outputs": [],
   "source": [
    "#Build rank-based recomendation \n",
    "# Calculating average ratings\n",
    "average_rating = rating.groupby('item_id').mean()['rating']\n",
    "\n",
    "# Calculating the count of ratings\n",
    "count_rating = rating.groupby('item_id').count()['rating']\n",
    "\n",
    "# Making a dataframe with the count and average of ratings\n",
    "final_rating = pd.DataFrame({'avg_rating':average_rating, 'rating_count':count_rating})"
   ]
  },
  {
   "cell_type": "code",
   "execution_count": 25,
   "metadata": {
    "colab": {
     "base_uri": "https://localhost:8080/",
     "height": 238
    },
    "id": "J6NLX6FIvOOK",
    "outputId": "100e4bba-ea07-4eaa-e208-737533e0df6f"
   },
   "outputs": [
    {
     "data": {
      "text/html": [
       "<div>\n",
       "<style scoped>\n",
       "    .dataframe tbody tr th:only-of-type {\n",
       "        vertical-align: middle;\n",
       "    }\n",
       "\n",
       "    .dataframe tbody tr th {\n",
       "        vertical-align: top;\n",
       "    }\n",
       "\n",
       "    .dataframe thead th {\n",
       "        text-align: right;\n",
       "    }\n",
       "</style>\n",
       "<table border=\"1\" class=\"dataframe\">\n",
       "  <thead>\n",
       "    <tr style=\"text-align: right;\">\n",
       "      <th></th>\n",
       "      <th>avg_rating</th>\n",
       "      <th>rating_count</th>\n",
       "    </tr>\n",
       "    <tr>\n",
       "      <th>item_id</th>\n",
       "      <th></th>\n",
       "      <th></th>\n",
       "    </tr>\n",
       "  </thead>\n",
       "  <tbody>\n",
       "    <tr>\n",
       "      <th>1400501466</th>\n",
       "      <td>3.333333</td>\n",
       "      <td>6</td>\n",
       "    </tr>\n",
       "    <tr>\n",
       "      <th>1400532655</th>\n",
       "      <td>3.833333</td>\n",
       "      <td>6</td>\n",
       "    </tr>\n",
       "    <tr>\n",
       "      <th>1400599997</th>\n",
       "      <td>4.000000</td>\n",
       "      <td>5</td>\n",
       "    </tr>\n",
       "    <tr>\n",
       "      <th>9983891212</th>\n",
       "      <td>4.875000</td>\n",
       "      <td>8</td>\n",
       "    </tr>\n",
       "    <tr>\n",
       "      <th>B00000DM9W</th>\n",
       "      <td>5.000000</td>\n",
       "      <td>5</td>\n",
       "    </tr>\n",
       "  </tbody>\n",
       "</table>\n",
       "</div>"
      ],
      "text/plain": [
       "            avg_rating  rating_count\n",
       "item_id                             \n",
       "1400501466    3.333333             6\n",
       "1400532655    3.833333             6\n",
       "1400599997    4.000000             5\n",
       "9983891212    4.875000             8\n",
       "B00000DM9W    5.000000             5"
      ]
     },
     "execution_count": 25,
     "metadata": {},
     "output_type": "execute_result"
    }
   ],
   "source": [
    "final_rating.head()"
   ]
  },
  {
   "cell_type": "markdown",
   "metadata": {
    "id": "Pv31nHm_2N9y"
   },
   "source": [
    "Now, let's create a function to find the **top n items** for a recommendation based on the average ratings of items. We can also add a **threshold for a minimum number of interactions** for a item to be considered for recommendation. "
   ]
  },
  {
   "cell_type": "code",
   "execution_count": 26,
   "metadata": {
    "id": "Fy0SbxnevOOK"
   },
   "outputs": [],
   "source": [
    "def top_n_items(data, n, min_interaction=30):\n",
    "    \n",
    "    # Finding items with minimum number of interactions\n",
    "    recommendations = data[data['rating_count'] >= min_interaction]\n",
    "    \n",
    "    # Sorting values w.r.t average rating \n",
    "    recommendations = recommendations.sort_values(by='avg_rating', ascending=False)\n",
    "    \n",
    "    return recommendations.index[:n]"
   ]
  },
  {
   "cell_type": "markdown",
   "metadata": {
    "id": "fi9vhL4Z2N9y"
   },
   "source": [
    "We can **use this function with different n's and minimum interactions** to get items to be recommended."
   ]
  },
  {
   "cell_type": "code",
   "execution_count": 27,
   "metadata": {
    "colab": {
     "base_uri": "https://localhost:8080/"
    },
    "id": "u-JX_ES9vOOK",
    "outputId": "bfb9a0e2-84a8-4247-ce0f-0f7d23328eb5"
   },
   "outputs": [
    {
     "data": {
      "text/plain": [
       "['B001TH7GUU', 'B003ES5ZUU', 'B0019EHU8G', 'B006W8U2MU', 'B000QUUFRW']"
      ]
     },
     "execution_count": 27,
     "metadata": {},
     "output_type": "execute_result"
    }
   ],
   "source": [
    "list(top_n_items(final_rating, 5, 50))"
   ]
  },
  {
   "cell_type": "markdown",
   "metadata": {
    "id": "r4vrsunx2N91"
   },
   "source": [
    "We have recommended the **top 5** products by using the popularity recommendation system. Now, let's build a recommendation system using **collaborative filtering.**"
   ]
  },
  {
   "cell_type": "code",
   "execution_count": 28,
   "metadata": {
    "colab": {
     "base_uri": "https://localhost:8080/",
     "height": 206
    },
    "id": "pyh0lKmb6Z1a",
    "outputId": "204f6428-349b-4b49-9f59-9ce258a40944"
   },
   "outputs": [
    {
     "data": {
      "text/html": [
       "<div>\n",
       "<style scoped>\n",
       "    .dataframe tbody tr th:only-of-type {\n",
       "        vertical-align: middle;\n",
       "    }\n",
       "\n",
       "    .dataframe tbody tr th {\n",
       "        vertical-align: top;\n",
       "    }\n",
       "\n",
       "    .dataframe thead th {\n",
       "        text-align: right;\n",
       "    }\n",
       "</style>\n",
       "<table border=\"1\" class=\"dataframe\">\n",
       "  <thead>\n",
       "    <tr style=\"text-align: right;\">\n",
       "      <th></th>\n",
       "      <th>user_id</th>\n",
       "      <th>item_id</th>\n",
       "      <th>rating</th>\n",
       "    </tr>\n",
       "  </thead>\n",
       "  <tbody>\n",
       "    <tr>\n",
       "      <th>1310</th>\n",
       "      <td>1050</td>\n",
       "      <td>0</td>\n",
       "      <td>5.0</td>\n",
       "    </tr>\n",
       "    <tr>\n",
       "      <th>1322</th>\n",
       "      <td>125</td>\n",
       "      <td>0</td>\n",
       "      <td>1.0</td>\n",
       "    </tr>\n",
       "    <tr>\n",
       "      <th>1335</th>\n",
       "      <td>785</td>\n",
       "      <td>0</td>\n",
       "      <td>3.0</td>\n",
       "    </tr>\n",
       "    <tr>\n",
       "      <th>1451</th>\n",
       "      <td>1495</td>\n",
       "      <td>0</td>\n",
       "      <td>5.0</td>\n",
       "    </tr>\n",
       "    <tr>\n",
       "      <th>1456</th>\n",
       "      <td>164</td>\n",
       "      <td>0</td>\n",
       "      <td>1.0</td>\n",
       "    </tr>\n",
       "  </tbody>\n",
       "</table>\n",
       "</div>"
      ],
      "text/plain": [
       "      user_id  item_id  rating\n",
       "1310     1050        0     5.0\n",
       "1322      125        0     1.0\n",
       "1335      785        0     3.0\n",
       "1451     1495        0     5.0\n",
       "1456      164        0     1.0"
      ]
     },
     "execution_count": 28,
     "metadata": {},
     "output_type": "execute_result"
    }
   ],
   "source": [
    "from sklearn.preprocessing import LabelEncoder\n",
    "df=rating[['user_id','item_id']].apply(LabelEncoder().fit_transform)\n",
    "df['rating']=rating['rating']\n",
    "df.head()"
   ]
  },
  {
   "cell_type": "code",
   "execution_count": 29,
   "metadata": {
    "id": "rGfYDiOCpe4X"
   },
   "outputs": [],
   "source": [
    "# Instantiating Reader scale with expected rating scale\n",
    "reader = Reader(rating_scale=(0, 5))\n",
    "\n",
    "# Loading the rating dataset\n",
    "data = Dataset.load_from_df(df[['user_id', 'item_id', 'rating']], reader)\n",
    "\n",
    "# Splitting the data into train and test dataset\n",
    "trainset, testset = train_test_split(data, test_size=0.7, random_state=42)"
   ]
  },
  {
   "cell_type": "code",
   "execution_count": 30,
   "metadata": {
    "colab": {
     "base_uri": "https://localhost:8080/"
    },
    "id": "vO3FL7iape8A",
    "outputId": "4c9e3c7a-6a59-46a3-aaeb-a3aa38bd448b"
   },
   "outputs": [
    {
     "name": "stdout",
     "output_type": "stream",
     "text": [
      "RMSE: 1.0552\n"
     ]
    },
    {
     "data": {
      "text/plain": [
       "1.0551559636074466"
      ]
     },
     "execution_count": 30,
     "metadata": {},
     "output_type": "execute_result"
    }
   ],
   "source": [
    "sim_options = {'name': 'cosine',\n",
    "               'user_based': True}\n",
    "\n",
    "algo_knn_user = KNNBasic(sim_options=sim_options,verbose=False)\n",
    "\n",
    "# Train the algorithm on the trainset, and predict ratings for the testset\n",
    "algo_knn_user.fit(trainset)\n",
    "predictions = algo_knn_user.test(testset)\n",
    "\n",
    "# Then compute RMSE\n",
    "accuracy.rmse(predictions)"
   ]
  },
  {
   "cell_type": "markdown",
   "metadata": {
    "id": "reFD0-nsnVNC"
   },
   "source": [
    "Let's us now predict rating for an user with `userId=0` and for `itemId=3906` as shown below"
   ]
  },
  {
   "cell_type": "code",
   "execution_count": 31,
   "metadata": {
    "colab": {
     "base_uri": "https://localhost:8080/"
    },
    "id": "Sxd23bZ9pe_x",
    "outputId": "a830591a-e119-4433-ccf3-fde9e09608ae"
   },
   "outputs": [
    {
     "name": "stdout",
     "output_type": "stream",
     "text": [
      "user: 0          item: 3906       r_ui = 4.00   est = 4.29   {'was_impossible': True, 'reason': 'Not enough neighbors.'}\n"
     ]
    },
    {
     "data": {
      "text/plain": [
       "Prediction(uid=0, iid=3906, r_ui=4, est=4.291366722826364, details={'was_impossible': True, 'reason': 'Not enough neighbors.'})"
      ]
     },
     "execution_count": 31,
     "metadata": {},
     "output_type": "execute_result"
    }
   ],
   "source": [
    "algo_knn_user.predict(0,3906, r_ui=4, verbose=True)"
   ]
  },
  {
   "cell_type": "markdown",
   "metadata": {
    "id": "QuVbIR3SnVNE"
   },
   "source": [
    "- As we can see - the actual rating for this user-item pair is 4 and predicted rating is 4.29 by this similarity based baseline model"
   ]
  },
  {
   "cell_type": "markdown",
   "metadata": {
    "id": "EXSgq8OEnVNE"
   },
   "source": [
    "Below we are predicting rating for the same `userId=0` but for a item which this user has not interacted before i.e. `itemId=100`, as shown below - "
   ]
  },
  {
   "cell_type": "code",
   "execution_count": 32,
   "metadata": {
    "colab": {
     "base_uri": "https://localhost:8080/"
    },
    "id": "PbFcBj1PpfEV",
    "outputId": "4c34b194-4d76-4c5b-ee1e-aab40aa6c0b5"
   },
   "outputs": [
    {
     "name": "stdout",
     "output_type": "stream",
     "text": [
      "user: 0          item: 100        r_ui = None   est = 4.00   {'actual_k': 1, 'was_impossible': False}\n"
     ]
    },
    {
     "data": {
      "text/plain": [
       "Prediction(uid=0, iid=100, r_ui=None, est=4.0, details={'actual_k': 1, 'was_impossible': False})"
      ]
     },
     "execution_count": 32,
     "metadata": {},
     "output_type": "execute_result"
    }
   ],
   "source": [
    "algo_knn_user.predict(0,100, verbose=True)"
   ]
  },
  {
   "cell_type": "markdown",
   "metadata": {
    "id": "cm2xqtcQnVNE"
   },
   "source": [
    "- As we can see the estimated rating for this user-item pair is 4.0 based on this similarity based baseline model"
   ]
  },
  {
   "cell_type": "markdown",
   "metadata": {
    "id": "2VSq_9J36Z1c"
   },
   "source": [
    "### Performing hyperparameter tuning for the baseline user based collaborative filtering recommendation system and finding the RMSE for tuned user based collaborative filtering recommendation system**"
   ]
  },
  {
   "cell_type": "code",
   "execution_count": 33,
   "metadata": {
    "colab": {
     "base_uri": "https://localhost:8080/"
    },
    "id": "KpGhU15gpfHg",
    "outputId": "082dca6f-1501-44ac-d2b8-cde8aded7501"
   },
   "outputs": [
    {
     "name": "stdout",
     "output_type": "stream",
     "text": [
      "0.9722330525400468\n",
      "{'k': 40, 'min_k': 6, 'sim_options': {'name': 'cosine', 'user_based': True}}\n"
     ]
    }
   ],
   "source": [
    "# Setting up parameter grid to tune the hyperparameters\n",
    "param_grid = {'k': [20, 30, 40], 'min_k': [3, 6, 9],\n",
    "              'sim_options': {'name': ['msd', 'cosine'],\n",
    "                              'user_based': [True]}\n",
    "              }\n",
    "\n",
    "# Performing 3-fold cross validation to tune the hyperparameters\n",
    "gs = GridSearchCV(KNNBasic, param_grid, measures=['rmse', 'mae'], cv=3, n_jobs=-1)\n",
    "\n",
    "# Fitting the data\n",
    "gs.fit(data)\n",
    "\n",
    "# Best RMSE score\n",
    "print(gs.best_score['rmse'])\n",
    "\n",
    "# Combination of parameters that gave the best RMSE score\n",
    "print(gs.best_params['rmse'])"
   ]
  },
  {
   "cell_type": "markdown",
   "metadata": {
    "id": "h_K6yd6XnVNF"
   },
   "source": [
    "Below we are analysing evaluation metrics - RMSE and MAE at each and every split to analyze the impact of each value of hyperparameters"
   ]
  },
  {
   "cell_type": "code",
   "execution_count": 34,
   "metadata": {
    "colab": {
     "base_uri": "https://localhost:8080/",
     "height": 531
    },
    "id": "TzJxk_Z4q1A8",
    "outputId": "f442802e-f04c-4b06-9730-763d2ae112f3"
   },
   "outputs": [
    {
     "data": {
      "text/html": [
       "<div>\n",
       "<style scoped>\n",
       "    .dataframe tbody tr th:only-of-type {\n",
       "        vertical-align: middle;\n",
       "    }\n",
       "\n",
       "    .dataframe tbody tr th {\n",
       "        vertical-align: top;\n",
       "    }\n",
       "\n",
       "    .dataframe thead th {\n",
       "        text-align: right;\n",
       "    }\n",
       "</style>\n",
       "<table border=\"1\" class=\"dataframe\">\n",
       "  <thead>\n",
       "    <tr style=\"text-align: right;\">\n",
       "      <th></th>\n",
       "      <th>split0_test_rmse</th>\n",
       "      <th>split1_test_rmse</th>\n",
       "      <th>split2_test_rmse</th>\n",
       "      <th>mean_test_rmse</th>\n",
       "      <th>std_test_rmse</th>\n",
       "      <th>rank_test_rmse</th>\n",
       "      <th>split0_test_mae</th>\n",
       "      <th>split1_test_mae</th>\n",
       "      <th>split2_test_mae</th>\n",
       "      <th>mean_test_mae</th>\n",
       "      <th>std_test_mae</th>\n",
       "      <th>rank_test_mae</th>\n",
       "      <th>mean_fit_time</th>\n",
       "      <th>std_fit_time</th>\n",
       "      <th>mean_test_time</th>\n",
       "      <th>std_test_time</th>\n",
       "      <th>params</th>\n",
       "      <th>param_k</th>\n",
       "      <th>param_min_k</th>\n",
       "      <th>param_sim_options</th>\n",
       "    </tr>\n",
       "  </thead>\n",
       "  <tbody>\n",
       "    <tr>\n",
       "      <th>0</th>\n",
       "      <td>0.974952</td>\n",
       "      <td>0.981926</td>\n",
       "      <td>0.976371</td>\n",
       "      <td>0.977750</td>\n",
       "      <td>0.003010</td>\n",
       "      <td>14</td>\n",
       "      <td>0.726377</td>\n",
       "      <td>0.728637</td>\n",
       "      <td>0.726267</td>\n",
       "      <td>0.727094</td>\n",
       "      <td>0.001092</td>\n",
       "      <td>1</td>\n",
       "      <td>0.318222</td>\n",
       "      <td>0.033872</td>\n",
       "      <td>2.698261</td>\n",
       "      <td>0.041520</td>\n",
       "      <td>{'k': 20, 'min_k': 3, 'sim_options': {'name': ...</td>\n",
       "      <td>20</td>\n",
       "      <td>3</td>\n",
       "      <td>{'name': 'msd', 'user_based': True}</td>\n",
       "    </tr>\n",
       "    <tr>\n",
       "      <th>1</th>\n",
       "      <td>0.972192</td>\n",
       "      <td>0.976774</td>\n",
       "      <td>0.971824</td>\n",
       "      <td>0.973597</td>\n",
       "      <td>0.002252</td>\n",
       "      <td>9</td>\n",
       "      <td>0.729109</td>\n",
       "      <td>0.729725</td>\n",
       "      <td>0.727707</td>\n",
       "      <td>0.728847</td>\n",
       "      <td>0.000845</td>\n",
       "      <td>6</td>\n",
       "      <td>1.132563</td>\n",
       "      <td>0.467344</td>\n",
       "      <td>1.730947</td>\n",
       "      <td>0.253615</td>\n",
       "      <td>{'k': 20, 'min_k': 3, 'sim_options': {'name': ...</td>\n",
       "      <td>20</td>\n",
       "      <td>3</td>\n",
       "      <td>{'name': 'cosine', 'user_based': True}</td>\n",
       "    </tr>\n",
       "    <tr>\n",
       "      <th>2</th>\n",
       "      <td>0.971853</td>\n",
       "      <td>0.975667</td>\n",
       "      <td>0.970729</td>\n",
       "      <td>0.972750</td>\n",
       "      <td>0.002113</td>\n",
       "      <td>6</td>\n",
       "      <td>0.747239</td>\n",
       "      <td>0.747990</td>\n",
       "      <td>0.745797</td>\n",
       "      <td>0.747008</td>\n",
       "      <td>0.000910</td>\n",
       "      <td>7</td>\n",
       "      <td>0.308379</td>\n",
       "      <td>0.169595</td>\n",
       "      <td>1.668794</td>\n",
       "      <td>0.408018</td>\n",
       "      <td>{'k': 20, 'min_k': 6, 'sim_options': {'name': ...</td>\n",
       "      <td>20</td>\n",
       "      <td>6</td>\n",
       "      <td>{'name': 'msd', 'user_based': True}</td>\n",
       "    </tr>\n",
       "    <tr>\n",
       "      <th>3</th>\n",
       "      <td>0.972553</td>\n",
       "      <td>0.975033</td>\n",
       "      <td>0.970114</td>\n",
       "      <td>0.972567</td>\n",
       "      <td>0.002008</td>\n",
       "      <td>4</td>\n",
       "      <td>0.750264</td>\n",
       "      <td>0.750063</td>\n",
       "      <td>0.747665</td>\n",
       "      <td>0.749331</td>\n",
       "      <td>0.001181</td>\n",
       "      <td>12</td>\n",
       "      <td>0.176592</td>\n",
       "      <td>0.017286</td>\n",
       "      <td>1.980208</td>\n",
       "      <td>0.153878</td>\n",
       "      <td>{'k': 20, 'min_k': 6, 'sim_options': {'name': ...</td>\n",
       "      <td>20</td>\n",
       "      <td>6</td>\n",
       "      <td>{'name': 'cosine', 'user_based': True}</td>\n",
       "    </tr>\n",
       "    <tr>\n",
       "      <th>4</th>\n",
       "      <td>0.976511</td>\n",
       "      <td>0.979507</td>\n",
       "      <td>0.977421</td>\n",
       "      <td>0.977813</td>\n",
       "      <td>0.001254</td>\n",
       "      <td>15</td>\n",
       "      <td>0.759992</td>\n",
       "      <td>0.760486</td>\n",
       "      <td>0.759364</td>\n",
       "      <td>0.759948</td>\n",
       "      <td>0.000459</td>\n",
       "      <td>13</td>\n",
       "      <td>0.165630</td>\n",
       "      <td>0.009955</td>\n",
       "      <td>1.886262</td>\n",
       "      <td>0.172677</td>\n",
       "      <td>{'k': 20, 'min_k': 9, 'sim_options': {'name': ...</td>\n",
       "      <td>20</td>\n",
       "      <td>9</td>\n",
       "      <td>{'name': 'msd', 'user_based': True}</td>\n",
       "    </tr>\n",
       "  </tbody>\n",
       "</table>\n",
       "</div>"
      ],
      "text/plain": [
       "   split0_test_rmse  split1_test_rmse  split2_test_rmse  mean_test_rmse  \\\n",
       "0          0.974952          0.981926          0.976371        0.977750   \n",
       "1          0.972192          0.976774          0.971824        0.973597   \n",
       "2          0.971853          0.975667          0.970729        0.972750   \n",
       "3          0.972553          0.975033          0.970114        0.972567   \n",
       "4          0.976511          0.979507          0.977421        0.977813   \n",
       "\n",
       "   std_test_rmse  rank_test_rmse  split0_test_mae  split1_test_mae  \\\n",
       "0       0.003010              14         0.726377         0.728637   \n",
       "1       0.002252               9         0.729109         0.729725   \n",
       "2       0.002113               6         0.747239         0.747990   \n",
       "3       0.002008               4         0.750264         0.750063   \n",
       "4       0.001254              15         0.759992         0.760486   \n",
       "\n",
       "   split2_test_mae  mean_test_mae  std_test_mae  rank_test_mae  mean_fit_time  \\\n",
       "0         0.726267       0.727094      0.001092              1       0.318222   \n",
       "1         0.727707       0.728847      0.000845              6       1.132563   \n",
       "2         0.745797       0.747008      0.000910              7       0.308379   \n",
       "3         0.747665       0.749331      0.001181             12       0.176592   \n",
       "4         0.759364       0.759948      0.000459             13       0.165630   \n",
       "\n",
       "   std_fit_time  mean_test_time  std_test_time  \\\n",
       "0      0.033872        2.698261       0.041520   \n",
       "1      0.467344        1.730947       0.253615   \n",
       "2      0.169595        1.668794       0.408018   \n",
       "3      0.017286        1.980208       0.153878   \n",
       "4      0.009955        1.886262       0.172677   \n",
       "\n",
       "                                              params  param_k  param_min_k  \\\n",
       "0  {'k': 20, 'min_k': 3, 'sim_options': {'name': ...       20            3   \n",
       "1  {'k': 20, 'min_k': 3, 'sim_options': {'name': ...       20            3   \n",
       "2  {'k': 20, 'min_k': 6, 'sim_options': {'name': ...       20            6   \n",
       "3  {'k': 20, 'min_k': 6, 'sim_options': {'name': ...       20            6   \n",
       "4  {'k': 20, 'min_k': 9, 'sim_options': {'name': ...       20            9   \n",
       "\n",
       "                        param_sim_options  \n",
       "0     {'name': 'msd', 'user_based': True}  \n",
       "1  {'name': 'cosine', 'user_based': True}  \n",
       "2     {'name': 'msd', 'user_based': True}  \n",
       "3  {'name': 'cosine', 'user_based': True}  \n",
       "4     {'name': 'msd', 'user_based': True}  "
      ]
     },
     "execution_count": 34,
     "metadata": {},
     "output_type": "execute_result"
    }
   ],
   "source": [
    "results_df = pd.DataFrame.from_dict(gs.cv_results)\n",
    "results_df.head()"
   ]
  },
  {
   "cell_type": "markdown",
   "metadata": {
    "id": "NHWgxu_YnVNG"
   },
   "source": [
    "Now, let's build the **final model by using tuned values of the hyperparameters**, which we received by using **grid search cross-validation**."
   ]
  },
  {
   "cell_type": "code",
   "execution_count": 35,
   "metadata": {
    "colab": {
     "base_uri": "https://localhost:8080/"
    },
    "id": "PujRJA8X_JEJ",
    "outputId": "4e3addee-5e36-4385-f87c-cc899dff3441"
   },
   "outputs": [
    {
     "name": "stdout",
     "output_type": "stream",
     "text": [
      "Computing the cosine similarity matrix...\n",
      "Done computing similarity matrix.\n",
      "RMSE: 0.9887\n"
     ]
    },
    {
     "data": {
      "text/plain": [
       "0.988698949219415"
      ]
     },
     "execution_count": 35,
     "metadata": {},
     "output_type": "execute_result"
    }
   ],
   "source": [
    "# Using the optimal similarity measure for user-user based collaborative filtering\n",
    "sim_options = {'name': 'cosine',\n",
    "               'user_based': True}\n",
    "\n",
    "# Creating an instance of KNNBasic with optimal hyperparameter values\n",
    "similarity_algo_optimized_user = KNNBasic(sim_options=sim_options, k=40, min_k=6,Verbose=False)\n",
    "\n",
    "# Training the algorithm on the trainset\n",
    "similarity_algo_optimized_user.fit(trainset)\n",
    "\n",
    "# Predicting ratings for the testset\n",
    "predictions = similarity_algo_optimized_user.test(testset)\n",
    "\n",
    "# Computing RMSE on testset\n",
    "accuracy.rmse(predictions)"
   ]
  },
  {
   "cell_type": "markdown",
   "metadata": {
    "id": "YhcAXK0CnVNG"
   },
   "source": [
    "Let's us now predict rating for an user with `userId=0` and for `itemId=3906` with the optimized model as shown below"
   ]
  },
  {
   "cell_type": "code",
   "execution_count": 36,
   "metadata": {
    "colab": {
     "base_uri": "https://localhost:8080/"
    },
    "id": "FgV63lHiq1TV",
    "outputId": "f8fc9966-ff2b-42d1-f74a-9f830625d48b"
   },
   "outputs": [
    {
     "name": "stdout",
     "output_type": "stream",
     "text": [
      "user: 0          item: 3906       r_ui = 4.00   est = 4.29   {'was_impossible': True, 'reason': 'Not enough neighbors.'}\n"
     ]
    },
    {
     "data": {
      "text/plain": [
       "Prediction(uid=0, iid=3906, r_ui=4, est=4.291366722826364, details={'was_impossible': True, 'reason': 'Not enough neighbors.'})"
      ]
     },
     "execution_count": 36,
     "metadata": {},
     "output_type": "execute_result"
    }
   ],
   "source": [
    "similarity_algo_optimized_user.predict(0,3906, r_ui=4, verbose=True)"
   ]
  },
  {
   "cell_type": "markdown",
   "metadata": {
    "id": "P1JLqz6mnVNH"
   },
   "source": [
    "Below we are predicting rating for the same `userId=0` but for a item which this user has not interacted before i.e. `itemId=100`, by using the optimized model as shown below - "
   ]
  },
  {
   "cell_type": "code",
   "execution_count": 37,
   "metadata": {
    "colab": {
     "base_uri": "https://localhost:8080/"
    },
    "id": "HXO2Ztjhq1bN",
    "outputId": "f41fbc78-f2b3-4558-c30c-5b507cfe4fb0"
   },
   "outputs": [
    {
     "name": "stdout",
     "output_type": "stream",
     "text": [
      "user: 0          item: 100        r_ui = None   est = 4.29   {'was_impossible': True, 'reason': 'Not enough neighbors.'}\n"
     ]
    },
    {
     "data": {
      "text/plain": [
       "Prediction(uid=0, iid=100, r_ui=None, est=4.291366722826364, details={'was_impossible': True, 'reason': 'Not enough neighbors.'})"
      ]
     },
     "execution_count": 37,
     "metadata": {},
     "output_type": "execute_result"
    }
   ],
   "source": [
    "similarity_algo_optimized_user.predict(0,100, verbose=True)"
   ]
  },
  {
   "cell_type": "markdown",
   "metadata": {
    "id": "o2QsfqhanVNH"
   },
   "source": [
    "We can also find out the similar users to a given user or its nearest neighbors based on this KNNBasic algorithm. Below we are finding 5 most similar user to the `userId=0` based on the `msd` distance metric"
   ]
  },
  {
   "cell_type": "code",
   "execution_count": 38,
   "metadata": {
    "colab": {
     "base_uri": "https://localhost:8080/"
    },
    "id": "evkmTb6P5HYO",
    "outputId": "47caf4c0-26e7-4655-bced-fc8bd612f974"
   },
   "outputs": [
    {
     "data": {
      "text/plain": [
       "[7, 12, 14, 23, 47]"
      ]
     },
     "execution_count": 38,
     "metadata": {},
     "output_type": "execute_result"
    }
   ],
   "source": [
    "similarity_algo_optimized_user.get_neighbors(0, k=5)"
   ]
  },
  {
   "cell_type": "code",
   "execution_count": 39,
   "metadata": {
    "id": "vW9V1Tk65HlY"
   },
   "outputs": [],
   "source": [
    "def get_recommendations(data, user_id, top_n, algo):\n",
    "    \n",
    "    # Creating an empty list to store the recommended item ids\n",
    "    recommendations = []\n",
    "    \n",
    "    # Creating an user item interactions matrix \n",
    "    user_item_interactions_matrix = data.pivot(index='user_id', columns='item_id', values='rating')\n",
    "    \n",
    "    # Extracting those item ids which the user_id has not interacted yet\n",
    "    non_interacted_items = user_item_interactions_matrix.loc[user_id][user_item_interactions_matrix.loc[user_id].isnull()].index.tolist()\n",
    "    \n",
    "    # Looping through each of the item id which user_id has not interacted yet\n",
    "    for item_id in non_interacted_items:\n",
    "        \n",
    "        # Predicting the ratings for those non interacted item ids by this user\n",
    "        est = algo.predict(user_id, item_id).est\n",
    "        \n",
    "        # appending the predicted ratings\n",
    "        recommendations.append((item_id, est))\n",
    "\n",
    "    # sorting the predicted ratings in descending order\n",
    "    recommendations.sort(key=lambda x: x[1], reverse=True)\n",
    "\n",
    "    return recommendations[:top_n] # Returing top n highest predicted rating items for this user"
   ]
  },
  {
   "cell_type": "markdown",
   "metadata": {
    "id": "Oj_S7kh4nVNI"
   },
   "source": [
    "#### **Predicted top 5 items for userId=4 with similarity based recommendation system**"
   ]
  },
  {
   "cell_type": "code",
   "execution_count": 40,
   "metadata": {
    "id": "qWbR85mI5Hrk"
   },
   "outputs": [],
   "source": [
    "recommendations = get_recommendations(df, 4, 5, similarity_algo_optimized_user)"
   ]
  },
  {
   "cell_type": "code",
   "execution_count": 41,
   "metadata": {
    "colab": {
     "base_uri": "https://localhost:8080/"
    },
    "id": "b5WfIX0Z6_q2",
    "outputId": "5e7b7cf2-d5ff-4ce4-a1d8-6b2a9b3b1449"
   },
   "outputs": [
    {
     "data": {
      "text/plain": [
       "[(850, 5),\n",
       " (2857, 4.875),\n",
       " (2277, 4.856530910239044),\n",
       " (2722, 4.833333333333333),\n",
       " (4189, 4.833053684165744)]"
      ]
     },
     "execution_count": 41,
     "metadata": {},
     "output_type": "execute_result"
    }
   ],
   "source": [
    "recommendations"
   ]
  },
  {
   "cell_type": "code",
   "execution_count": 42,
   "metadata": {
    "colab": {
     "base_uri": "https://localhost:8080/"
    },
    "id": "_4zF583_6Z1g",
    "outputId": "80450cae-4e6d-48ce-8ec3-7a8f323d65a2"
   },
   "outputs": [
    {
     "name": "stdout",
     "output_type": "stream",
     "text": [
      "RMSE: 1.0697\n"
     ]
    },
    {
     "data": {
      "text/plain": [
       "1.0697030922594737"
      ]
     },
     "execution_count": 42,
     "metadata": {},
     "output_type": "execute_result"
    }
   ],
   "source": [
    "# Definfing similarity measure\n",
    "sim_options = {'name': 'cosine',\n",
    "               'user_based': False}\n",
    "\n",
    "# Defining Nearest neighbour algorithm\n",
    "algo_knn_item = KNNBasic(sim_options=sim_options,verbose=False)\n",
    "\n",
    "# Train the algorithm on the trainset or fitting the model on train dataset \n",
    "algo_knn_item.fit(trainset)\n",
    "\n",
    "# Predict ratings for the testset\n",
    "predictions = algo_knn_item.test(testset)\n",
    "\n",
    "# Then compute RMSE\n",
    "accuracy.rmse(predictions)"
   ]
  },
  {
   "cell_type": "code",
   "execution_count": 43,
   "metadata": {
    "colab": {
     "base_uri": "https://localhost:8080/"
    },
    "id": "SmtSba906Z1h",
    "outputId": "8bfb87fd-a60a-451e-e829-c6876ba286a4"
   },
   "outputs": [
    {
     "name": "stdout",
     "output_type": "stream",
     "text": [
      "user: 0          item: 3096       r_ui = 4.00   est = 4.29   {'was_impossible': True, 'reason': 'Not enough neighbors.'}\n"
     ]
    },
    {
     "data": {
      "text/plain": [
       "Prediction(uid=0, iid=3096, r_ui=4, est=4.291366722826364, details={'was_impossible': True, 'reason': 'Not enough neighbors.'})"
      ]
     },
     "execution_count": 43,
     "metadata": {},
     "output_type": "execute_result"
    }
   ],
   "source": [
    "algo_knn_item.predict(0, 3096, r_ui=4, verbose=True)"
   ]
  },
  {
   "cell_type": "markdown",
   "metadata": {
    "id": "sLYUottz6Z1h"
   },
   "source": [
    "- As we can see - the actual rating for this user-item pair is 4 and predicted rating is 4.29 by this similarity based baseline model"
   ]
  },
  {
   "cell_type": "markdown",
   "metadata": {
    "id": "_2cK6nrF6Z1h"
   },
   "source": [
    "Let's predict  the rating for the same `userId=0` but for a item which this user has not interacted before i.e. `itemId=22607`"
   ]
  },
  {
   "cell_type": "code",
   "execution_count": 44,
   "metadata": {
    "colab": {
     "base_uri": "https://localhost:8080/"
    },
    "id": "1GMQ0JtI6Z1h",
    "outputId": "1cccadf7-4335-49f5-a883-0734548c3b81"
   },
   "outputs": [
    {
     "name": "stdout",
     "output_type": "stream",
     "text": [
      "user: 0          item: 22607      r_ui = None   est = 4.29   {'was_impossible': True, 'reason': 'User and/or item is unknown.'}\n"
     ]
    },
    {
     "data": {
      "text/plain": [
       "Prediction(uid=0, iid=22607, r_ui=None, est=4.291366722826364, details={'was_impossible': True, 'reason': 'User and/or item is unknown.'})"
      ]
     },
     "execution_count": 44,
     "metadata": {},
     "output_type": "execute_result"
    }
   ],
   "source": [
    "algo_knn_item.predict(0, 22607, verbose=True)"
   ]
  },
  {
   "cell_type": "markdown",
   "metadata": {
    "id": "3EfFKfAk6Z1h"
   },
   "source": [
    "### Performing hyperparameter tuning for the baseline item based collaborative filtering recommendation system and finding the RMSE for tuned item based collaborative filtering recommendation system**"
   ]
  },
  {
   "cell_type": "code",
   "execution_count": 45,
   "metadata": {
    "colab": {
     "base_uri": "https://localhost:8080/"
    },
    "id": "Gu1tFaCU6Z1j",
    "outputId": "547cfaee-ada0-4115-f232-1e5b4727faf8"
   },
   "outputs": [
    {
     "name": "stdout",
     "output_type": "stream",
     "text": [
      "Computing the msd similarity matrix...\n",
      "Done computing similarity matrix.\n",
      "Computing the msd similarity matrix...\n",
      "Done computing similarity matrix.\n",
      "Computing the msd similarity matrix...\n",
      "Done computing similarity matrix.\n",
      "Computing the cosine similarity matrix...\n",
      "Done computing similarity matrix.\n",
      "Computing the cosine similarity matrix...\n",
      "Done computing similarity matrix.\n",
      "Computing the cosine similarity matrix...\n",
      "Done computing similarity matrix.\n",
      "Computing the msd similarity matrix...\n",
      "Done computing similarity matrix.\n",
      "Computing the msd similarity matrix...\n",
      "Done computing similarity matrix.\n",
      "Computing the msd similarity matrix...\n",
      "Done computing similarity matrix.\n",
      "Computing the cosine similarity matrix...\n",
      "Done computing similarity matrix.\n",
      "Computing the cosine similarity matrix...\n",
      "Done computing similarity matrix.\n",
      "Computing the cosine similarity matrix...\n",
      "Done computing similarity matrix.\n",
      "Computing the msd similarity matrix...\n",
      "Done computing similarity matrix.\n",
      "Computing the msd similarity matrix...\n",
      "Done computing similarity matrix.\n",
      "Computing the msd similarity matrix...\n",
      "Done computing similarity matrix.\n",
      "Computing the cosine similarity matrix...\n",
      "Done computing similarity matrix.\n",
      "Computing the cosine similarity matrix...\n",
      "Done computing similarity matrix.\n",
      "Computing the cosine similarity matrix...\n",
      "Done computing similarity matrix.\n",
      "Computing the msd similarity matrix...\n",
      "Done computing similarity matrix.\n",
      "Computing the msd similarity matrix...\n",
      "Done computing similarity matrix.\n",
      "Computing the msd similarity matrix...\n",
      "Done computing similarity matrix.\n",
      "Computing the cosine similarity matrix...\n",
      "Done computing similarity matrix.\n",
      "Computing the cosine similarity matrix...\n",
      "Done computing similarity matrix.\n",
      "Computing the cosine similarity matrix...\n",
      "Done computing similarity matrix.\n",
      "Computing the msd similarity matrix...\n",
      "Done computing similarity matrix.\n",
      "Computing the msd similarity matrix...\n",
      "Done computing similarity matrix.\n",
      "Computing the msd similarity matrix...\n",
      "Done computing similarity matrix.\n",
      "Computing the cosine similarity matrix...\n",
      "Done computing similarity matrix.\n",
      "Computing the msd similarity matrix...\n",
      "Done computing similarity matrix.\n",
      "Computing the msd similarity matrix...\n",
      "Done computing similarity matrix.\n",
      "Computing the cosine similarity matrix...\n",
      "Done computing similarity matrix.\n",
      "Computing the msd similarity matrix...\n",
      "Done computing similarity matrix.\n",
      "Computing the cosine similarity matrix...\n",
      "Done computing similarity matrix.\n",
      "Computing the cosine similarity matrix...\n",
      "Done computing similarity matrix.\n",
      "Computing the msd similarity matrix...\n",
      "Done computing similarity matrix.\n",
      "Computing the cosine similarity matrix...\n",
      "Done computing similarity matrix.\n",
      "Computing the cosine similarity matrix...\n",
      "Done computing similarity matrix.\n",
      "Computing the msd similarity matrix...\n",
      "Done computing similarity matrix.\n",
      "Computing the msd similarity matrix...\n",
      "Done computing similarity matrix.\n",
      "Computing the cosine similarity matrix...\n",
      "Done computing similarity matrix.\n",
      "Computing the msd similarity matrix...\n",
      "Done computing similarity matrix.\n",
      "Computing the msd similarity matrix...\n",
      "Done computing similarity matrix.\n",
      "Computing the cosine similarity matrix...\n",
      "Done computing similarity matrix.\n",
      "Computing the cosine similarity matrix...\n",
      "Done computing similarity matrix.\n",
      "Computing the msd similarity matrix...\n",
      "Done computing similarity matrix.\n",
      "Computing the msd similarity matrix...\n",
      "Done computing similarity matrix.\n",
      "Computing the msd similarity matrix...\n",
      "Done computing similarity matrix.\n",
      "Computing the cosine similarity matrix...\n",
      "Done computing similarity matrix.\n",
      "Computing the msd similarity matrix...\n",
      "Done computing similarity matrix.\n",
      "Computing the msd similarity matrix...\n",
      "Done computing similarity matrix.\n",
      "Computing the cosine similarity matrix...\n",
      "Done computing similarity matrix.\n",
      "Computing the msd similarity matrix...\n",
      "Done computing similarity matrix.\n",
      "Computing the cosine similarity matrix...\n",
      "Done computing similarity matrix.\n",
      "Computing the msd similarity matrix...\n",
      "Done computing similarity matrix.\n",
      "Computing the cosine similarity matrix...\n",
      "Done computing similarity matrix.\n",
      "Computing the msd similarity matrix...\n",
      "Done computing similarity matrix.\n",
      "Computing the cosine similarity matrix...\n",
      "Done computing similarity matrix.\n",
      "Computing the msd similarity matrix...\n",
      "Done computing similarity matrix.\n",
      "Computing the msd similarity matrix...\n",
      "Done computing similarity matrix.\n",
      "Computing the cosine similarity matrix...\n",
      "Done computing similarity matrix.\n",
      "Computing the cosine similarity matrix...\n",
      "Done computing similarity matrix.\n",
      "Computing the msd similarity matrix...\n",
      "Done computing similarity matrix.\n",
      "Computing the cosine similarity matrix...\n",
      "Done computing similarity matrix.\n",
      "Computing the cosine similarity matrix...\n",
      "Done computing similarity matrix.\n",
      "Computing the msd similarity matrix...\n",
      "Done computing similarity matrix.\n",
      "Computing the cosine similarity matrix...\n",
      "Done computing similarity matrix.\n",
      "Computing the msd similarity matrix...\n",
      "Done computing similarity matrix.\n",
      "Computing the msd similarity matrix...\n",
      "Done computing similarity matrix.\n",
      "Computing the msd similarity matrix...\n",
      "Done computing similarity matrix.\n",
      "Computing the cosine similarity matrix...\n",
      "Done computing similarity matrix.\n",
      "Computing the msd similarity matrix...\n",
      "Done computing similarity matrix.\n",
      "Computing the msd similarity matrix...\n",
      "Done computing similarity matrix.\n",
      "Computing the cosine similarity matrix...\n",
      "Done computing similarity matrix.\n",
      "Computing the cosine similarity matrix...\n",
      "Done computing similarity matrix.\n",
      "Computing the cosine similarity matrix...\n",
      "Done computing similarity matrix.\n",
      "Computing the cosine similarity matrix...\n",
      "Done computing similarity matrix.\n",
      "Computing the cosine similarity matrix...\n",
      "Done computing similarity matrix.\n",
      "Computing the msd similarity matrix...\n",
      "Done computing similarity matrix.\n",
      "Computing the cosine similarity matrix...\n",
      "Done computing similarity matrix.\n",
      "Computing the cosine similarity matrix...\n",
      "Done computing similarity matrix.\n",
      "Computing the msd similarity matrix...\n",
      "Done computing similarity matrix.\n",
      "Computing the cosine similarity matrix...\n",
      "Done computing similarity matrix.\n",
      "Computing the cosine similarity matrix...\n",
      "Done computing similarity matrix.\n",
      "Computing the cosine similarity matrix...\n",
      "Done computing similarity matrix.\n",
      "Computing the msd similarity matrix...\n",
      "Done computing similarity matrix.\n",
      "Computing the msd similarity matrix...\n",
      "Done computing similarity matrix.\n",
      "Computing the msd similarity matrix...\n",
      "Done computing similarity matrix.\n",
      "Computing the cosine similarity matrix...\n",
      "Done computing similarity matrix.\n",
      "Computing the cosine similarity matrix...\n",
      "Done computing similarity matrix.\n",
      "Computing the cosine similarity matrix...\n",
      "Done computing similarity matrix.\n",
      "Computing the msd similarity matrix...\n",
      "Done computing similarity matrix.\n",
      "Computing the msd similarity matrix...\n",
      "Done computing similarity matrix.\n",
      "Computing the msd similarity matrix...\n",
      "Done computing similarity matrix.\n",
      "Computing the cosine similarity matrix...\n",
      "Done computing similarity matrix.\n",
      "Computing the cosine similarity matrix...\n",
      "Done computing similarity matrix.\n",
      "Computing the cosine similarity matrix...\n",
      "Done computing similarity matrix.\n",
      "Computing the msd similarity matrix...\n",
      "Done computing similarity matrix.\n",
      "Computing the msd similarity matrix...\n",
      "Done computing similarity matrix.\n",
      "Computing the msd similarity matrix...\n",
      "Done computing similarity matrix.\n",
      "Computing the cosine similarity matrix...\n",
      "Done computing similarity matrix.\n",
      "Computing the cosine similarity matrix...\n",
      "Done computing similarity matrix.\n",
      "Computing the cosine similarity matrix...\n",
      "Done computing similarity matrix.\n",
      "Computing the msd similarity matrix...\n",
      "Done computing similarity matrix.\n",
      "Computing the msd similarity matrix...\n",
      "Done computing similarity matrix.\n",
      "Computing the msd similarity matrix...\n",
      "Done computing similarity matrix.\n",
      "Computing the cosine similarity matrix...\n",
      "Done computing similarity matrix.\n",
      "Computing the cosine similarity matrix...\n",
      "Done computing similarity matrix.\n",
      "Computing the cosine similarity matrix...\n",
      "Done computing similarity matrix.\n",
      "0.9753315393410569\n",
      "{'k': 30, 'min_k': 9, 'sim_options': {'name': 'msd', 'user_based': False}}\n"
     ]
    }
   ],
   "source": [
    "# Setting up parameter grid to tune the hyperparameters\n",
    "param_grid = {'k': [20, 30,40], 'min_k': [3,6,9],\n",
    "              'sim_options': {'name': ['msd', 'cosine'],\n",
    "                              'user_based': [False]}\n",
    "              }\n",
    "\n",
    "# Performing 3-fold cross validation to tune the hyperparameters\n",
    "grid_obj = GridSearchCV(KNNBasic, param_grid, measures=['rmse', 'mae'], cv=3)\n",
    "\n",
    "# Fitting the data\n",
    "grid_obj.fit(data)\n",
    "\n",
    "# Best RMSE score\n",
    "print(grid_obj.best_score['rmse'])\n",
    "\n",
    "# Combination of parameters that gave the best RMSE score\n",
    "print(grid_obj.best_params['rmse'])"
   ]
  },
  {
   "cell_type": "markdown",
   "metadata": {
    "id": "AHXRbrsz6Z1j"
   },
   "source": [
    "Below we are analysing evaluation metrics - RMSE and MAE at each and every split to analyze the impact of each value of hyperparameters"
   ]
  },
  {
   "cell_type": "code",
   "execution_count": 46,
   "metadata": {
    "colab": {
     "base_uri": "https://localhost:8080/",
     "height": 531
    },
    "id": "TjS_TXyS6Z1j",
    "outputId": "84b4b9c0-628e-4dc1-dcf2-1745c15601ba"
   },
   "outputs": [
    {
     "data": {
      "text/html": [
       "<div>\n",
       "<style scoped>\n",
       "    .dataframe tbody tr th:only-of-type {\n",
       "        vertical-align: middle;\n",
       "    }\n",
       "\n",
       "    .dataframe tbody tr th {\n",
       "        vertical-align: top;\n",
       "    }\n",
       "\n",
       "    .dataframe thead th {\n",
       "        text-align: right;\n",
       "    }\n",
       "</style>\n",
       "<table border=\"1\" class=\"dataframe\">\n",
       "  <thead>\n",
       "    <tr style=\"text-align: right;\">\n",
       "      <th></th>\n",
       "      <th>split0_test_rmse</th>\n",
       "      <th>split1_test_rmse</th>\n",
       "      <th>split2_test_rmse</th>\n",
       "      <th>mean_test_rmse</th>\n",
       "      <th>std_test_rmse</th>\n",
       "      <th>rank_test_rmse</th>\n",
       "      <th>split0_test_mae</th>\n",
       "      <th>split1_test_mae</th>\n",
       "      <th>split2_test_mae</th>\n",
       "      <th>mean_test_mae</th>\n",
       "      <th>std_test_mae</th>\n",
       "      <th>rank_test_mae</th>\n",
       "      <th>mean_fit_time</th>\n",
       "      <th>std_fit_time</th>\n",
       "      <th>mean_test_time</th>\n",
       "      <th>std_test_time</th>\n",
       "      <th>params</th>\n",
       "      <th>param_k</th>\n",
       "      <th>param_min_k</th>\n",
       "      <th>param_sim_options</th>\n",
       "    </tr>\n",
       "  </thead>\n",
       "  <tbody>\n",
       "    <tr>\n",
       "      <th>0</th>\n",
       "      <td>0.990052</td>\n",
       "      <td>0.980600</td>\n",
       "      <td>0.986987</td>\n",
       "      <td>0.985880</td>\n",
       "      <td>0.003937</td>\n",
       "      <td>16</td>\n",
       "      <td>0.730214</td>\n",
       "      <td>0.722211</td>\n",
       "      <td>0.727583</td>\n",
       "      <td>0.726669</td>\n",
       "      <td>0.003330</td>\n",
       "      <td>1</td>\n",
       "      <td>0.743191</td>\n",
       "      <td>0.044009</td>\n",
       "      <td>1.557839</td>\n",
       "      <td>0.518311</td>\n",
       "      <td>{'k': 20, 'min_k': 3, 'sim_options': {'name': ...</td>\n",
       "      <td>20</td>\n",
       "      <td>3</td>\n",
       "      <td>{'name': 'msd', 'user_based': False}</td>\n",
       "    </tr>\n",
       "    <tr>\n",
       "      <th>1</th>\n",
       "      <td>0.989100</td>\n",
       "      <td>0.982118</td>\n",
       "      <td>0.987314</td>\n",
       "      <td>0.986177</td>\n",
       "      <td>0.002961</td>\n",
       "      <td>18</td>\n",
       "      <td>0.736514</td>\n",
       "      <td>0.730128</td>\n",
       "      <td>0.733809</td>\n",
       "      <td>0.733484</td>\n",
       "      <td>0.002617</td>\n",
       "      <td>6</td>\n",
       "      <td>1.867900</td>\n",
       "      <td>0.282621</td>\n",
       "      <td>1.689392</td>\n",
       "      <td>0.489359</td>\n",
       "      <td>{'k': 20, 'min_k': 3, 'sim_options': {'name': ...</td>\n",
       "      <td>20</td>\n",
       "      <td>3</td>\n",
       "      <td>{'name': 'cosine', 'user_based': False}</td>\n",
       "    </tr>\n",
       "    <tr>\n",
       "      <th>2</th>\n",
       "      <td>0.979005</td>\n",
       "      <td>0.969323</td>\n",
       "      <td>0.978370</td>\n",
       "      <td>0.975566</td>\n",
       "      <td>0.004422</td>\n",
       "      <td>5</td>\n",
       "      <td>0.743576</td>\n",
       "      <td>0.737890</td>\n",
       "      <td>0.744561</td>\n",
       "      <td>0.742009</td>\n",
       "      <td>0.002940</td>\n",
       "      <td>7</td>\n",
       "      <td>0.925933</td>\n",
       "      <td>0.180795</td>\n",
       "      <td>1.965073</td>\n",
       "      <td>1.095023</td>\n",
       "      <td>{'k': 20, 'min_k': 6, 'sim_options': {'name': ...</td>\n",
       "      <td>20</td>\n",
       "      <td>6</td>\n",
       "      <td>{'name': 'msd', 'user_based': False}</td>\n",
       "    </tr>\n",
       "    <tr>\n",
       "      <th>3</th>\n",
       "      <td>0.981174</td>\n",
       "      <td>0.972515</td>\n",
       "      <td>0.980371</td>\n",
       "      <td>0.978020</td>\n",
       "      <td>0.003906</td>\n",
       "      <td>11</td>\n",
       "      <td>0.750242</td>\n",
       "      <td>0.744674</td>\n",
       "      <td>0.750092</td>\n",
       "      <td>0.748336</td>\n",
       "      <td>0.002590</td>\n",
       "      <td>12</td>\n",
       "      <td>1.642389</td>\n",
       "      <td>0.438768</td>\n",
       "      <td>1.735704</td>\n",
       "      <td>0.325658</td>\n",
       "      <td>{'k': 20, 'min_k': 6, 'sim_options': {'name': ...</td>\n",
       "      <td>20</td>\n",
       "      <td>6</td>\n",
       "      <td>{'name': 'cosine', 'user_based': False}</td>\n",
       "    </tr>\n",
       "    <tr>\n",
       "      <th>4</th>\n",
       "      <td>0.978323</td>\n",
       "      <td>0.970088</td>\n",
       "      <td>0.977585</td>\n",
       "      <td>0.975332</td>\n",
       "      <td>0.003720</td>\n",
       "      <td>2</td>\n",
       "      <td>0.754525</td>\n",
       "      <td>0.749113</td>\n",
       "      <td>0.754694</td>\n",
       "      <td>0.752777</td>\n",
       "      <td>0.002592</td>\n",
       "      <td>13</td>\n",
       "      <td>2.351490</td>\n",
       "      <td>1.258355</td>\n",
       "      <td>4.879891</td>\n",
       "      <td>2.883218</td>\n",
       "      <td>{'k': 20, 'min_k': 9, 'sim_options': {'name': ...</td>\n",
       "      <td>20</td>\n",
       "      <td>9</td>\n",
       "      <td>{'name': 'msd', 'user_based': False}</td>\n",
       "    </tr>\n",
       "  </tbody>\n",
       "</table>\n",
       "</div>"
      ],
      "text/plain": [
       "   split0_test_rmse  split1_test_rmse  split2_test_rmse  mean_test_rmse  \\\n",
       "0          0.990052          0.980600          0.986987        0.985880   \n",
       "1          0.989100          0.982118          0.987314        0.986177   \n",
       "2          0.979005          0.969323          0.978370        0.975566   \n",
       "3          0.981174          0.972515          0.980371        0.978020   \n",
       "4          0.978323          0.970088          0.977585        0.975332   \n",
       "\n",
       "   std_test_rmse  rank_test_rmse  split0_test_mae  split1_test_mae  \\\n",
       "0       0.003937              16         0.730214         0.722211   \n",
       "1       0.002961              18         0.736514         0.730128   \n",
       "2       0.004422               5         0.743576         0.737890   \n",
       "3       0.003906              11         0.750242         0.744674   \n",
       "4       0.003720               2         0.754525         0.749113   \n",
       "\n",
       "   split2_test_mae  mean_test_mae  std_test_mae  rank_test_mae  mean_fit_time  \\\n",
       "0         0.727583       0.726669      0.003330              1       0.743191   \n",
       "1         0.733809       0.733484      0.002617              6       1.867900   \n",
       "2         0.744561       0.742009      0.002940              7       0.925933   \n",
       "3         0.750092       0.748336      0.002590             12       1.642389   \n",
       "4         0.754694       0.752777      0.002592             13       2.351490   \n",
       "\n",
       "   std_fit_time  mean_test_time  std_test_time  \\\n",
       "0      0.044009        1.557839       0.518311   \n",
       "1      0.282621        1.689392       0.489359   \n",
       "2      0.180795        1.965073       1.095023   \n",
       "3      0.438768        1.735704       0.325658   \n",
       "4      1.258355        4.879891       2.883218   \n",
       "\n",
       "                                              params  param_k  param_min_k  \\\n",
       "0  {'k': 20, 'min_k': 3, 'sim_options': {'name': ...       20            3   \n",
       "1  {'k': 20, 'min_k': 3, 'sim_options': {'name': ...       20            3   \n",
       "2  {'k': 20, 'min_k': 6, 'sim_options': {'name': ...       20            6   \n",
       "3  {'k': 20, 'min_k': 6, 'sim_options': {'name': ...       20            6   \n",
       "4  {'k': 20, 'min_k': 9, 'sim_options': {'name': ...       20            9   \n",
       "\n",
       "                         param_sim_options  \n",
       "0     {'name': 'msd', 'user_based': False}  \n",
       "1  {'name': 'cosine', 'user_based': False}  \n",
       "2     {'name': 'msd', 'user_based': False}  \n",
       "3  {'name': 'cosine', 'user_based': False}  \n",
       "4     {'name': 'msd', 'user_based': False}  "
      ]
     },
     "execution_count": 46,
     "metadata": {},
     "output_type": "execute_result"
    }
   ],
   "source": [
    "results_df = pd.DataFrame.from_dict(grid_obj.cv_results)\n",
    "results_df.head()"
   ]
  },
  {
   "cell_type": "markdown",
   "metadata": {
    "id": "uZEKeYx0RPI3"
   },
   "source": [
    "Now let's build the **final model** by using **tuned values of the hyperparameters** which we received by using grid search cross-validation."
   ]
  },
  {
   "cell_type": "code",
   "execution_count": 47,
   "metadata": {
    "colab": {
     "base_uri": "https://localhost:8080/"
    },
    "id": "PUxmBpSj6Z1j",
    "outputId": "2c31ae8f-aa23-4537-dea2-8327ef4726f2"
   },
   "outputs": [
    {
     "name": "stdout",
     "output_type": "stream",
     "text": [
      "RMSE: 0.9896\n"
     ]
    },
    {
     "data": {
      "text/plain": [
       "0.9895877571156905"
      ]
     },
     "execution_count": 47,
     "metadata": {},
     "output_type": "execute_result"
    }
   ],
   "source": [
    "# Creating an instance of KNNBasic with optimal hyperparameter values\n",
    "similarity_algo_optimized_item = KNNBasic(sim_options={'name': 'msd', 'user_based': False}, k=30, min_k=6,verbose=False)\n",
    "\n",
    "# Training the algorithm on the trainset\n",
    "similarity_algo_optimized_item.fit(trainset)\n",
    "\n",
    "# Predicting ratings for the testset\n",
    "predictions = similarity_algo_optimized_item.test(testset)\n",
    "\n",
    "# Computing RMSE on testset\n",
    "accuracy.rmse(predictions)"
   ]
  },
  {
   "cell_type": "markdown",
   "metadata": {
    "id": "XLrYQTcz6Z1k"
   },
   "source": [
    "- We can see from above that after tuning hyperparameters, RMSE for testset has reduced to 0.98 from 1.06. We can say that we have been able to improve the model after hyperparameter tuning."
   ]
  },
  {
   "cell_type": "markdown",
   "metadata": {
    "id": "vEXwA-TT6Z1k"
   },
   "source": [
    "Let's us now predict rating for an user with `userId=0` and for `itemId=3906` with the optimized model as shown below"
   ]
  },
  {
   "cell_type": "code",
   "execution_count": 48,
   "metadata": {
    "colab": {
     "base_uri": "https://localhost:8080/"
    },
    "id": "3ykMV5y26Z1k",
    "outputId": "0ce577c7-71f8-4267-d377-8e90f98c5ff0"
   },
   "outputs": [
    {
     "name": "stdout",
     "output_type": "stream",
     "text": [
      "user: 0          item: 3906       r_ui = 4.00   est = 4.29   {'was_impossible': True, 'reason': 'Not enough neighbors.'}\n"
     ]
    },
    {
     "data": {
      "text/plain": [
       "Prediction(uid=0, iid=3906, r_ui=4, est=4.291366722826364, details={'was_impossible': True, 'reason': 'Not enough neighbors.'})"
      ]
     },
     "execution_count": 48,
     "metadata": {},
     "output_type": "execute_result"
    }
   ],
   "source": [
    "similarity_algo_optimized_item.predict(0, 3906, r_ui=4, verbose=True)"
   ]
  },
  {
   "cell_type": "markdown",
   "metadata": {
    "id": "bPGpA30S6Z1k"
   },
   "source": [
    "\n",
    "- If we compare the above predicted rating, we can see the baseline model predicted rating as `4.29` and the optimized model predicted the rating as `4.29`. whereas the actual rating is `4.0`."
   ]
  },
  {
   "cell_type": "markdown",
   "metadata": {
    "id": "uzjpEdMN6Z1k"
   },
   "source": [
    "Let's predict the rating for the same `userId=0` but for a item which this user has not interacted before i.e. `itemId=100`, by using the optimized model:"
   ]
  },
  {
   "cell_type": "code",
   "execution_count": 49,
   "metadata": {
    "colab": {
     "base_uri": "https://localhost:8080/"
    },
    "id": "73PUY4Og6Z1k",
    "outputId": "714cb0a4-6017-4b2f-f012-b78c5182d774"
   },
   "outputs": [
    {
     "name": "stdout",
     "output_type": "stream",
     "text": [
      "user: 0          item: 100        r_ui = None   est = 4.29   {'was_impossible': True, 'reason': 'Not enough neighbors.'}\n"
     ]
    },
    {
     "data": {
      "text/plain": [
       "Prediction(uid=0, iid=100, r_ui=None, est=4.291366722826364, details={'was_impossible': True, 'reason': 'Not enough neighbors.'})"
      ]
     },
     "execution_count": 49,
     "metadata": {},
     "output_type": "execute_result"
    }
   ],
   "source": [
    "similarity_algo_optimized_item.predict(0,100, verbose=True)"
   ]
  },
  {
   "cell_type": "markdown",
   "metadata": {
    "id": "o73veUsw6Z1k"
   },
   "source": [
    "\n",
    "- If we compare the above predicted rating, we can see the baseline model predicted rating as `5` and the optimized model predicted the rating as `4.29`."
   ]
  },
  {
   "cell_type": "markdown",
   "metadata": {
    "id": "v8lUjCZA6Z1k"
   },
   "source": [
    "\n",
    "We can also find out the similar items to a given item or its nearest neighbors based on this KNNBasic algorithm. Below we are finding 5 most similar item to the `itemId=100` based on the `msd` distance metric"
   ]
  },
  {
   "cell_type": "code",
   "execution_count": 50,
   "metadata": {
    "colab": {
     "base_uri": "https://localhost:8080/"
    },
    "id": "Haj3yoKO6Z1k",
    "outputId": "2afadd5a-fc9c-4970-cee3-4095de9e3ab9"
   },
   "outputs": [
    {
     "data": {
      "text/plain": [
       "[13, 25, 44, 67, 72]"
      ]
     },
     "execution_count": 50,
     "metadata": {},
     "output_type": "execute_result"
    }
   ],
   "source": [
    "similarity_algo_optimized_item.get_neighbors(100, k=5)"
   ]
  },
  {
   "cell_type": "markdown",
   "metadata": {
    "id": "txuyYKAN6Z1k"
   },
   "source": [
    "**Predicted top 5 items for userId=4 with similarity based recommendation system**"
   ]
  },
  {
   "cell_type": "code",
   "execution_count": 51,
   "metadata": {
    "id": "wu5p60aM6Z1k"
   },
   "outputs": [],
   "source": [
    "recommendations = get_recommendations(df, 4, 5, similarity_algo_optimized_item)"
   ]
  },
  {
   "cell_type": "code",
   "execution_count": 52,
   "metadata": {
    "colab": {
     "base_uri": "https://localhost:8080/"
    },
    "id": "2UCb7qE96Z1l",
    "outputId": "ca184063-6fd5-4604-d7d8-588675738378"
   },
   "outputs": [
    {
     "data": {
      "text/plain": [
       "[(5155, 4.846153846153846),\n",
       " (1997, 4.701088473346358),\n",
       " (3975, 4.692622950819672),\n",
       " (4253, 4.612068965517241),\n",
       " (5489, 4.536817102137767)]"
      ]
     },
     "execution_count": 52,
     "metadata": {},
     "output_type": "execute_result"
    }
   ],
   "source": [
    "recommendations"
   ]
  },
  {
   "cell_type": "markdown",
   "metadata": {
    "id": "uOtkUXmAnVNL"
   },
   "source": [
    "#### **Building a baseline matrix factorization recommendation system**"
   ]
  },
  {
   "cell_type": "code",
   "execution_count": 53,
   "metadata": {
    "colab": {
     "base_uri": "https://localhost:8080/"
    },
    "id": "07-2PT5Ssjqm",
    "outputId": "8d777230-bc23-4eff-e192-8411991975ae"
   },
   "outputs": [
    {
     "name": "stdout",
     "output_type": "stream",
     "text": [
      "RMSE: 0.9298\n"
     ]
    },
    {
     "data": {
      "text/plain": [
       "0.9297835488422698"
      ]
     },
     "execution_count": 53,
     "metadata": {},
     "output_type": "execute_result"
    }
   ],
   "source": [
    "# Using SVD matrix factorization\n",
    "algo_svd = SVD()\n",
    "\n",
    "# Training the algorithm on the trainset\n",
    "algo_svd.fit(trainset)\n",
    "\n",
    "# Predicting ratings for the testset\n",
    "predictions = algo_svd.test(testset)\n",
    "\n",
    "# Computing RMSE on the testset\n",
    "accuracy.rmse(predictions)"
   ]
  },
  {
   "cell_type": "markdown",
   "metadata": {
    "id": "BQ6fTuCDnVNL"
   },
   "source": [
    "\n",
    "\n",
    "- We can that the baseline RMSE for matrix factorization model on testset (which is `0.93`) is lower as compared to the RMSE for baseline similarity based recommendation system (which is `1.06`) and it is even lesser than the RMSE for optimized similarity based recommendation system (which is `0.99`)"
   ]
  },
  {
   "cell_type": "markdown",
   "metadata": {
    "id": "HD2AU1DnnVNM"
   },
   "source": [
    "Let's us now predict rating for an user with `userId=0` and for `itemId=3906` as shown below"
   ]
  },
  {
   "cell_type": "code",
   "execution_count": 54,
   "metadata": {
    "colab": {
     "base_uri": "https://localhost:8080/"
    },
    "id": "yWIhfdxXsjqm",
    "outputId": "2e44aa8d-c7c6-45b9-c4b5-ac4bb6cd9147"
   },
   "outputs": [
    {
     "name": "stdout",
     "output_type": "stream",
     "text": [
      "user: 0          item: 3906       r_ui = 4.00   est = 4.74   {'was_impossible': False}\n"
     ]
    },
    {
     "data": {
      "text/plain": [
       "Prediction(uid=0, iid=3906, r_ui=4, est=4.739693707144238, details={'was_impossible': False})"
      ]
     },
     "execution_count": 54,
     "metadata": {},
     "output_type": "execute_result"
    }
   ],
   "source": [
    "algo_svd.predict(0,3906, r_ui=4, verbose=True)"
   ]
  },
  {
   "cell_type": "markdown",
   "metadata": {
    "id": "oIjzqDY5nVNM"
   },
   "source": [
    "\n",
    "\n",
    "- As we can see - the actual rating for this user-item pair is 4 and predicted rating is 4.71 by this matrix factorization based baseline model. It seems like we have over estimated the rating by a small margin. We will try to fix this later by tuning the hyperparameters of the model using GridSearchCV"
   ]
  },
  {
   "cell_type": "markdown",
   "metadata": {
    "id": "I1aYxVeMnVNM"
   },
   "source": [
    "Below we are predicting rating for the same `userId=0` but for a item which this user has not interacted before i.e. `userId=100`, as shown below - "
   ]
  },
  {
   "cell_type": "code",
   "execution_count": 55,
   "metadata": {
    "colab": {
     "base_uri": "https://localhost:8080/"
    },
    "id": "APm-uMSvcAMf",
    "outputId": "5141c184-63a1-4f41-9fc8-21e08603d769"
   },
   "outputs": [
    {
     "name": "stdout",
     "output_type": "stream",
     "text": [
      "user: 0          item: 100        r_ui = None   est = 4.46   {'was_impossible': False}\n"
     ]
    },
    {
     "data": {
      "text/plain": [
       "Prediction(uid=0, iid=100, r_ui=None, est=4.460976397477576, details={'was_impossible': False})"
      ]
     },
     "execution_count": 55,
     "metadata": {},
     "output_type": "execute_result"
    }
   ],
   "source": [
    "algo_svd.predict(0,100, verbose=True)"
   ]
  },
  {
   "cell_type": "code",
   "execution_count": 56,
   "metadata": {
    "colab": {
     "base_uri": "https://localhost:8080/"
    },
    "id": "4bM81V_hvtwv",
    "outputId": "93c113ba-25c7-45df-8f07-6da0239412a4"
   },
   "outputs": [
    {
     "name": "stdout",
     "output_type": "stream",
     "text": [
      "0.8979478487963467\n",
      "{'n_epochs': 20, 'lr_all': 0.01, 'reg_all': 0.2}\n"
     ]
    }
   ],
   "source": [
    "# Set the parameter space to tune\n",
    "param_grid = {'n_epochs': [10, 20, 30], 'lr_all': [0.001, 0.005, 0.01],\n",
    "              'reg_all': [0.2, 0.4, 0.6]}\n",
    "\n",
    "# Performing 3-fold gridsearch cross validation\n",
    "gs = GridSearchCV(SVD, param_grid, measures=['rmse', 'mae'], cv=3, n_jobs=-1)\n",
    "\n",
    "# Fitting data\n",
    "gs.fit(data)\n",
    "\n",
    "# Best RMSE score\n",
    "print(gs.best_score['rmse'])\n",
    "\n",
    "# Combination of parameters that gave the best RMSE score\n",
    "print(gs.best_params['rmse'])"
   ]
  },
  {
   "cell_type": "markdown",
   "metadata": {
    "id": "cjIaWSIAnVNN"
   },
   "source": [
    "Once the **grid search** is complete, we can get the **optimal values** for each of those hyperparameters, as shown above."
   ]
  },
  {
   "cell_type": "markdown",
   "metadata": {
    "id": "2CfLdGf0nVNN"
   },
   "source": [
    "Below we are analysing evaluation metrics - RMSE and MAE at each and every split to analyze the impact of each value of hyperparameters"
   ]
  },
  {
   "cell_type": "code",
   "execution_count": 57,
   "metadata": {
    "colab": {
     "base_uri": "https://localhost:8080/",
     "height": 617
    },
    "id": "RMb3t3z_vt8W",
    "outputId": "9a5e6ebe-32b8-49be-d62b-08106bcab634"
   },
   "outputs": [
    {
     "data": {
      "text/html": [
       "<div>\n",
       "<style scoped>\n",
       "    .dataframe tbody tr th:only-of-type {\n",
       "        vertical-align: middle;\n",
       "    }\n",
       "\n",
       "    .dataframe tbody tr th {\n",
       "        vertical-align: top;\n",
       "    }\n",
       "\n",
       "    .dataframe thead th {\n",
       "        text-align: right;\n",
       "    }\n",
       "</style>\n",
       "<table border=\"1\" class=\"dataframe\">\n",
       "  <thead>\n",
       "    <tr style=\"text-align: right;\">\n",
       "      <th></th>\n",
       "      <th>split0_test_rmse</th>\n",
       "      <th>split1_test_rmse</th>\n",
       "      <th>split2_test_rmse</th>\n",
       "      <th>mean_test_rmse</th>\n",
       "      <th>std_test_rmse</th>\n",
       "      <th>rank_test_rmse</th>\n",
       "      <th>split0_test_mae</th>\n",
       "      <th>split1_test_mae</th>\n",
       "      <th>split2_test_mae</th>\n",
       "      <th>mean_test_mae</th>\n",
       "      <th>std_test_mae</th>\n",
       "      <th>rank_test_mae</th>\n",
       "      <th>mean_fit_time</th>\n",
       "      <th>std_fit_time</th>\n",
       "      <th>mean_test_time</th>\n",
       "      <th>std_test_time</th>\n",
       "      <th>params</th>\n",
       "      <th>param_n_epochs</th>\n",
       "      <th>param_lr_all</th>\n",
       "      <th>param_reg_all</th>\n",
       "    </tr>\n",
       "  </thead>\n",
       "  <tbody>\n",
       "    <tr>\n",
       "      <th>0</th>\n",
       "      <td>0.956874</td>\n",
       "      <td>0.955346</td>\n",
       "      <td>0.949173</td>\n",
       "      <td>0.953798</td>\n",
       "      <td>0.003329</td>\n",
       "      <td>25</td>\n",
       "      <td>0.738431</td>\n",
       "      <td>0.738478</td>\n",
       "      <td>0.734877</td>\n",
       "      <td>0.737262</td>\n",
       "      <td>0.001687</td>\n",
       "      <td>25</td>\n",
       "      <td>0.503407</td>\n",
       "      <td>0.010440</td>\n",
       "      <td>0.388006</td>\n",
       "      <td>0.006513</td>\n",
       "      <td>{'n_epochs': 10, 'lr_all': 0.001, 'reg_all': 0.2}</td>\n",
       "      <td>10</td>\n",
       "      <td>0.001</td>\n",
       "      <td>0.2</td>\n",
       "    </tr>\n",
       "    <tr>\n",
       "      <th>1</th>\n",
       "      <td>0.957350</td>\n",
       "      <td>0.955619</td>\n",
       "      <td>0.949109</td>\n",
       "      <td>0.954026</td>\n",
       "      <td>0.003548</td>\n",
       "      <td>27</td>\n",
       "      <td>0.740034</td>\n",
       "      <td>0.740611</td>\n",
       "      <td>0.736325</td>\n",
       "      <td>0.738990</td>\n",
       "      <td>0.001899</td>\n",
       "      <td>26</td>\n",
       "      <td>0.516364</td>\n",
       "      <td>0.007450</td>\n",
       "      <td>0.394681</td>\n",
       "      <td>0.014982</td>\n",
       "      <td>{'n_epochs': 10, 'lr_all': 0.001, 'reg_all': 0.4}</td>\n",
       "      <td>10</td>\n",
       "      <td>0.001</td>\n",
       "      <td>0.4</td>\n",
       "    </tr>\n",
       "    <tr>\n",
       "      <th>2</th>\n",
       "      <td>0.956185</td>\n",
       "      <td>0.956603</td>\n",
       "      <td>0.949110</td>\n",
       "      <td>0.953966</td>\n",
       "      <td>0.003438</td>\n",
       "      <td>26</td>\n",
       "      <td>0.740570</td>\n",
       "      <td>0.742503</td>\n",
       "      <td>0.736580</td>\n",
       "      <td>0.739884</td>\n",
       "      <td>0.002466</td>\n",
       "      <td>27</td>\n",
       "      <td>0.494777</td>\n",
       "      <td>0.013315</td>\n",
       "      <td>0.422365</td>\n",
       "      <td>0.016763</td>\n",
       "      <td>{'n_epochs': 10, 'lr_all': 0.001, 'reg_all': 0.6}</td>\n",
       "      <td>10</td>\n",
       "      <td>0.001</td>\n",
       "      <td>0.6</td>\n",
       "    </tr>\n",
       "    <tr>\n",
       "      <th>3</th>\n",
       "      <td>0.916766</td>\n",
       "      <td>0.914951</td>\n",
       "      <td>0.905976</td>\n",
       "      <td>0.912565</td>\n",
       "      <td>0.004717</td>\n",
       "      <td>16</td>\n",
       "      <td>0.686359</td>\n",
       "      <td>0.686660</td>\n",
       "      <td>0.681106</td>\n",
       "      <td>0.684708</td>\n",
       "      <td>0.002550</td>\n",
       "      <td>16</td>\n",
       "      <td>0.534893</td>\n",
       "      <td>0.014932</td>\n",
       "      <td>0.419230</td>\n",
       "      <td>0.010841</td>\n",
       "      <td>{'n_epochs': 10, 'lr_all': 0.005, 'reg_all': 0.2}</td>\n",
       "      <td>10</td>\n",
       "      <td>0.005</td>\n",
       "      <td>0.2</td>\n",
       "    </tr>\n",
       "    <tr>\n",
       "      <th>4</th>\n",
       "      <td>0.917297</td>\n",
       "      <td>0.915737</td>\n",
       "      <td>0.907500</td>\n",
       "      <td>0.913511</td>\n",
       "      <td>0.004298</td>\n",
       "      <td>17</td>\n",
       "      <td>0.690821</td>\n",
       "      <td>0.691057</td>\n",
       "      <td>0.685912</td>\n",
       "      <td>0.689263</td>\n",
       "      <td>0.002371</td>\n",
       "      <td>17</td>\n",
       "      <td>0.519064</td>\n",
       "      <td>0.007647</td>\n",
       "      <td>0.435660</td>\n",
       "      <td>0.010625</td>\n",
       "      <td>{'n_epochs': 10, 'lr_all': 0.005, 'reg_all': 0.4}</td>\n",
       "      <td>10</td>\n",
       "      <td>0.005</td>\n",
       "      <td>0.4</td>\n",
       "    </tr>\n",
       "  </tbody>\n",
       "</table>\n",
       "</div>"
      ],
      "text/plain": [
       "   split0_test_rmse  split1_test_rmse  split2_test_rmse  mean_test_rmse  \\\n",
       "0          0.956874          0.955346          0.949173        0.953798   \n",
       "1          0.957350          0.955619          0.949109        0.954026   \n",
       "2          0.956185          0.956603          0.949110        0.953966   \n",
       "3          0.916766          0.914951          0.905976        0.912565   \n",
       "4          0.917297          0.915737          0.907500        0.913511   \n",
       "\n",
       "   std_test_rmse  rank_test_rmse  split0_test_mae  split1_test_mae  \\\n",
       "0       0.003329              25         0.738431         0.738478   \n",
       "1       0.003548              27         0.740034         0.740611   \n",
       "2       0.003438              26         0.740570         0.742503   \n",
       "3       0.004717              16         0.686359         0.686660   \n",
       "4       0.004298              17         0.690821         0.691057   \n",
       "\n",
       "   split2_test_mae  mean_test_mae  std_test_mae  rank_test_mae  mean_fit_time  \\\n",
       "0         0.734877       0.737262      0.001687             25       0.503407   \n",
       "1         0.736325       0.738990      0.001899             26       0.516364   \n",
       "2         0.736580       0.739884      0.002466             27       0.494777   \n",
       "3         0.681106       0.684708      0.002550             16       0.534893   \n",
       "4         0.685912       0.689263      0.002371             17       0.519064   \n",
       "\n",
       "   std_fit_time  mean_test_time  std_test_time  \\\n",
       "0      0.010440        0.388006       0.006513   \n",
       "1      0.007450        0.394681       0.014982   \n",
       "2      0.013315        0.422365       0.016763   \n",
       "3      0.014932        0.419230       0.010841   \n",
       "4      0.007647        0.435660       0.010625   \n",
       "\n",
       "                                              params  param_n_epochs  \\\n",
       "0  {'n_epochs': 10, 'lr_all': 0.001, 'reg_all': 0.2}              10   \n",
       "1  {'n_epochs': 10, 'lr_all': 0.001, 'reg_all': 0.4}              10   \n",
       "2  {'n_epochs': 10, 'lr_all': 0.001, 'reg_all': 0.6}              10   \n",
       "3  {'n_epochs': 10, 'lr_all': 0.005, 'reg_all': 0.2}              10   \n",
       "4  {'n_epochs': 10, 'lr_all': 0.005, 'reg_all': 0.4}              10   \n",
       "\n",
       "   param_lr_all  param_reg_all  \n",
       "0         0.001            0.2  \n",
       "1         0.001            0.4  \n",
       "2         0.001            0.6  \n",
       "3         0.005            0.2  \n",
       "4         0.005            0.4  "
      ]
     },
     "execution_count": 57,
     "metadata": {},
     "output_type": "execute_result"
    }
   ],
   "source": [
    "results_df = pd.DataFrame.from_dict(gs.cv_results)\n",
    "results_df.head()"
   ]
  },
  {
   "cell_type": "markdown",
   "metadata": {
    "id": "KzY78HsrnVNO"
   },
   "source": [
    "Now, we will **the build final model** by using **tuned values** of the hyperparameters, which we received using grid search cross-validation above."
   ]
  },
  {
   "cell_type": "code",
   "execution_count": 58,
   "metadata": {
    "colab": {
     "base_uri": "https://localhost:8080/"
    },
    "id": "TA_7xe-nnhuu",
    "outputId": "0619c63d-c1b7-4631-8e50-6b25feb12bc9"
   },
   "outputs": [
    {
     "name": "stdout",
     "output_type": "stream",
     "text": [
      "RMSE: 0.9232\n"
     ]
    },
    {
     "data": {
      "text/plain": [
       "0.9231696499098728"
      ]
     },
     "execution_count": 58,
     "metadata": {},
     "output_type": "execute_result"
    }
   ],
   "source": [
    "# Building the optimized SVD model using optimal hyperparameter search\n",
    "svd_algo_optimized = SVD(n_epochs=20, lr_all=0.01, reg_all=0.2)\n",
    "\n",
    "# Training the algorithm on the trainset\n",
    "svd_algo_optimized.fit(trainset)\n",
    "\n",
    "# Predicting ratings for the testset\n",
    "predictions = svd_algo_optimized.test(testset)\n",
    "\n",
    "# Computing RMSE\n",
    "accuracy.rmse(predictions)"
   ]
  },
  {
   "cell_type": "markdown",
   "metadata": {
    "id": "md0-dL56nVNO"
   },
   "source": [
    "Let's us now predict rating for an user with `userId=0` and for `itemId=3906` with the optimized model as shown below"
   ]
  },
  {
   "cell_type": "code",
   "execution_count": 59,
   "metadata": {
    "colab": {
     "base_uri": "https://localhost:8080/"
    },
    "id": "s6C1PAfboM8_",
    "outputId": "ea40e59a-1e0b-4e06-9f33-d20170ecf808"
   },
   "outputs": [
    {
     "name": "stdout",
     "output_type": "stream",
     "text": [
      "user: 0          item: 3906       r_ui = 4.00   est = 4.66   {'was_impossible': False}\n"
     ]
    },
    {
     "data": {
      "text/plain": [
       "Prediction(uid=0, iid=3906, r_ui=4, est=4.6630097844738465, details={'was_impossible': False})"
      ]
     },
     "execution_count": 59,
     "metadata": {},
     "output_type": "execute_result"
    }
   ],
   "source": [
    "svd_algo_optimized.predict(0,3906, r_ui=4, verbose=True)"
   ]
  },
  {
   "cell_type": "markdown",
   "metadata": {
    "id": "VdiEtzEznVNO"
   },
   "source": [
    "\n",
    "\n",
    "- If we compare the above predicted rating, we can see the baseline model predicted rating as `4.71` and the optimized model predicted the rating as `4.86`. whereas the actual rating is `4`."
   ]
  },
  {
   "cell_type": "code",
   "execution_count": 60,
   "metadata": {
    "colab": {
     "base_uri": "https://localhost:8080/"
    },
    "id": "k1xjn3kOoQyg",
    "outputId": "29f0af9f-af26-4ff2-9144-7e7a67d5465a"
   },
   "outputs": [
    {
     "name": "stdout",
     "output_type": "stream",
     "text": [
      "user: 0          item: 100        r_ui = None   est = 4.61   {'was_impossible': False}\n"
     ]
    },
    {
     "data": {
      "text/plain": [
       "Prediction(uid=0, iid=100, r_ui=None, est=4.605171028133748, details={'was_impossible': False})"
      ]
     },
     "execution_count": 60,
     "metadata": {},
     "output_type": "execute_result"
    }
   ],
   "source": [
    "svd_algo_optimized.predict(0,100, verbose=True)"
   ]
  },
  {
   "cell_type": "code",
   "execution_count": 61,
   "metadata": {
    "colab": {
     "base_uri": "https://localhost:8080/"
    },
    "id": "1LGeE2EB_n90",
    "outputId": "386755fe-6401-4cb9-846d-afdc212b58cb"
   },
   "outputs": [
    {
     "data": {
      "text/plain": [
       "[(1309, 5),\n",
       " (4638, 5),\n",
       " (5194, 4.9943585913704736),\n",
       " (5172, 4.951389525123321),\n",
       " (4886, 4.951227381278682)]"
      ]
     },
     "execution_count": 61,
     "metadata": {},
     "output_type": "execute_result"
    }
   ],
   "source": [
    "get_recommendations(df,4, 5, svd_algo_optimized)"
   ]
  },
  {
   "cell_type": "markdown",
   "metadata": {
    "id": "eEHotB5bhFYE"
   },
   "source": [
    "Below we are comparing the rating predictions of users for those items which has been already watched by an user. This will help us to understand how well are predictions are as compared to the actual ratings provided by users"
   ]
  },
  {
   "cell_type": "code",
   "execution_count": 62,
   "metadata": {
    "id": "hQIPHA7-vg7W"
   },
   "outputs": [],
   "source": [
    "def predict_already_interacted_ratings(data, user_id, algo):\n",
    "    \n",
    "    # Creating an empty list to store the recommended item ids\n",
    "    recommendations = []\n",
    "    \n",
    "    # Creating an user item interactions matrix \n",
    "    user_item_interactions_matrix = data.pivot(index='user_id', columns='item_id', values='rating')\n",
    "    \n",
    "    # Extracting those item ids which the user_id has interacted already\n",
    "    interacted_items = user_item_interactions_matrix.loc[user_id][user_item_interactions_matrix.loc[user_id].notnull()].index.tolist()\n",
    "    \n",
    "    # Looping through each of the item id which user_id has interacted already\n",
    "    for item_id in interacted_items:\n",
    "        \n",
    "        # Extracting actual ratings\n",
    "        actual_rating = user_item_interactions_matrix.loc[user_id, item_id]\n",
    "        \n",
    "        # Predicting the ratings for those non interacted item ids by this user\n",
    "        predicted_rating = algo.predict(user_id, item_id).est\n",
    "        \n",
    "        # Appending the predicted ratings\n",
    "        recommendations.append((item_id, actual_rating, predicted_rating))\n",
    "\n",
    "    # Sorting the predicted ratings in descending order\n",
    "    recommendations.sort(key=lambda x: x[1], reverse=True)\n",
    "\n",
    "    return pd.DataFrame(recommendations, columns=['itemId', 'actual_rating', 'predicted_rating']) # returing top n highest predicted rating items for this user"
   ]
  },
  {
   "cell_type": "markdown",
   "metadata": {
    "id": "wqfd_lnnhFYE"
   },
   "source": [
    "Here we are comparing the predicted ratings by `similarity based recommendation` system against actual ratings for `userId=4`"
   ]
  },
  {
   "cell_type": "code",
   "execution_count": 63,
   "metadata": {
    "colab": {
     "base_uri": "https://localhost:8080/",
     "height": 369
    },
    "id": "IWQvGj-vyWj3",
    "outputId": "2cc6a321-c0d8-4969-9e96-20f6a3ecb300",
    "scrolled": false
   },
   "outputs": [
    {
     "data": {
      "image/png": "[encoded data removed]",
      "text/plain": [
       "<Figure size 478.125x360 with 1 Axes>"
      ]
     },
     "metadata": {
      "needs_background": "light"
     },
     "output_type": "display_data"
    }
   ],
   "source": [
    "predicted_ratings_for_interacted_items = predict_already_interacted_ratings(df,4, similarity_algo_optimized_user)\n",
    "data = predicted_ratings_for_interacted_items.melt(id_vars='itemId', value_vars=['actual_rating', 'predicted_rating'])\n",
    "sns.displot(data=data, x='value', hue='variable', kde=True);"
   ]
  },
  {
   "cell_type": "markdown",
   "metadata": {
    "id": "7E6K5sFrhFYE"
   },
   "source": [
    "\n",
    "\n",
    "- We can see that distribution of predicted ratings is closely following the distribution of actual ratings. The total bins for predicted ratings are nearly same as to the total bins for actual ratings.\n",
    "- We are getting more predicted values in between 4 and 5,this is expected, as actual ratings always have discreet values like 1, 2, 3, 4, 5, but predicted ratings can have continuous values as we are taking aggregated ratings from the nearest neighbors of a given user. But over the predictions looks good as compared to the distribution of actual ratings."
   ]
  },
  {
   "cell_type": "markdown",
   "metadata": {
    "id": "dD6iLaDLhFYF"
   },
   "source": [
    "Below we are comparing the predicted ratings by `matrix factorization based recommendation` system against actual ratings for `userId=4`"
   ]
  },
  {
   "cell_type": "code",
   "execution_count": 64,
   "metadata": {
    "colab": {
     "base_uri": "https://localhost:8080/",
     "height": 369
    },
    "id": "6lYjMDhU0xuQ",
    "outputId": "df21e7c7-f770-4c85-9590-919ba5310ce3"
   },
   "outputs": [
    {
     "data": {
      "image/png": "[encoded data removed]",
      "text/plain": [
       "<Figure size 478.125x360 with 1 Axes>"
      ]
     },
     "metadata": {
      "needs_background": "light"
     },
     "output_type": "display_data"
    }
   ],
   "source": [
    "predicted_ratings_for_interacted_items = predict_already_interacted_ratings(df,4, svd_algo_optimized)\n",
    "data = predicted_ratings_for_interacted_items.melt(id_vars='itemId', value_vars=['actual_rating', 'predicted_rating'])\n",
    "sns.displot(data=data, x='value', hue='variable', kde=True);"
   ]
  },
  {
   "cell_type": "code",
   "execution_count": 65,
   "metadata": {
    "id": "oiQ7WxNZ6Z1u"
   },
   "outputs": [],
   "source": [
    "# Instantiating Reader scale with expected rating scale\n",
    "reader = Reader(rating_scale=(0, 5))\n",
    "\n",
    "# Loading the rating dataset\n",
    "data = Dataset.load_from_df(rating[['user_id', 'item_id', 'rating']], reader)\n",
    "\n",
    "# Splitting the data into train and test dataset\n",
    "trainset, testset = train_test_split(data, test_size=0.2, random_state=42)"
   ]
  },
  {
   "cell_type": "code",
   "execution_count": 66,
   "metadata": {
    "id": "JdD-MrbzhFYF"
   },
   "outputs": [],
   "source": [
    "#Computing the precision and recall\n",
    "from collections import defaultdict\n",
    "\n",
    "# Function can be found on surprise documentation FAQs\n",
    "def precision_recall_at_k(predictions, k=10, threshold=3.5):\n",
    "    \"\"\"Return precision and recall at k metrics for each user\"\"\"\n",
    "\n",
    "    # First map the predictions to each user.\n",
    "    user_est_true = defaultdict(list)\n",
    "    for uid, _, true_r, est, _ in predictions:\n",
    "        user_est_true[uid].append((est, true_r))\n",
    "\n",
    "    precisions = dict()\n",
    "    recalls = dict()\n",
    "    for uid, user_ratings in user_est_true.items():\n",
    "\n",
    "        # Sort user ratings by estimated value\n",
    "        user_ratings.sort(key=lambda x: x[0], reverse=True)\n",
    "\n",
    "        # Number of relevant items\n",
    "        n_rel = sum((true_r >= threshold) for (_, true_r) in user_ratings)\n",
    "\n",
    "        # Number of recommended items in top k\n",
    "        n_rec_k = sum((est >= threshold) for (est, _) in user_ratings[:k])\n",
    "\n",
    "        # Number of relevant and recommended items in top k\n",
    "        n_rel_and_rec_k = sum(((true_r >= threshold) and (est >= threshold))\n",
    "                              for (est, true_r) in user_ratings[:k])\n",
    "\n",
    "        # Precision@K: Proportion of recommended items that are relevant\n",
    "        # When n_rec_k is 0, Precision is undefined. We here set it to 0.\n",
    "\n",
    "        precisions[uid] = n_rel_and_rec_k / n_rec_k if n_rec_k != 0 else 0\n",
    "\n",
    "        # Recall@K: Proportion of relevant items that are recommended\n",
    "        # When n_rel is 0, Recall is undefined. We here set it to 0.\n",
    "\n",
    "        recalls[uid] = n_rel_and_rec_k / n_rel if n_rel != 0 else 0\n",
    "\n",
    "    return precisions, recalls"
   ]
  },
  {
   "cell_type": "code",
   "execution_count": 67,
   "metadata": {
    "colab": {
     "base_uri": "https://localhost:8080/"
    },
    "id": "6jmohp85hFYF",
    "outputId": "15432f32-2c91-4066-d990-b2b52bc08269"
   },
   "outputs": [
    {
     "name": "stdout",
     "output_type": "stream",
     "text": [
      "> k=5, model=KNNBasic\n",
      "-----> Precision:  0.869\n",
      "-----> Recall:  0.688\n",
      "> k=5, model=KNNBasic\n",
      "Computing the cosine similarity matrix...\n",
      "Done computing similarity matrix.\n",
      "Computing the cosine similarity matrix...\n",
      "Done computing similarity matrix.\n",
      "Computing the cosine similarity matrix...\n",
      "Done computing similarity matrix.\n",
      "Computing the cosine similarity matrix...\n",
      "Done computing similarity matrix.\n",
      "Computing the cosine similarity matrix...\n",
      "Done computing similarity matrix.\n",
      "-----> Precision:  0.859\n",
      "-----> Recall:  0.702\n",
      "> k=5, model=KNNBasic\n",
      "-----> Precision:  0.836\n",
      "-----> Recall:  0.658\n",
      "> k=5, model=KNNBasic\n",
      "-----> Precision:  0.843\n",
      "-----> Recall:  0.69\n",
      "> k=5, model=SVD\n",
      "-----> Precision:  0.867\n",
      "-----> Recall:  0.692\n",
      "> k=5, model=SVD\n",
      "-----> Precision:  0.872\n",
      "-----> Recall:  0.698\n",
      "> k=10, model=KNNBasic\n",
      "-----> Precision:  0.852\n",
      "-----> Recall:  0.86\n",
      "> k=10, model=KNNBasic\n",
      "Computing the cosine similarity matrix...\n",
      "Done computing similarity matrix.\n",
      "Computing the cosine similarity matrix...\n",
      "Done computing similarity matrix.\n",
      "Computing the cosine similarity matrix...\n",
      "Done computing similarity matrix.\n",
      "Computing the cosine similarity matrix...\n",
      "Done computing similarity matrix.\n",
      "Computing the cosine similarity matrix...\n",
      "Done computing similarity matrix.\n",
      "-----> Precision:  0.846\n",
      "-----> Recall:  0.897\n",
      "> k=10, model=KNNBasic\n",
      "-----> Precision:  0.832\n",
      "-----> Recall:  0.847\n",
      "> k=10, model=KNNBasic\n",
      "-----> Precision:  0.838\n",
      "-----> Recall:  0.89\n",
      "> k=10, model=SVD\n",
      "-----> Precision:  0.847\n",
      "-----> Recall:  0.882\n",
      "> k=10, model=SVD\n",
      "-----> Precision:  0.852\n",
      "-----> Recall:  0.882\n"
     ]
    }
   ],
   "source": [
    "# Make list of k values\n",
    "# A basic cross-validation iterator.\n",
    "from surprise.model_selection import KFold\n",
    "kf = KFold(n_splits=5)\n",
    "K = [5, 10]\n",
    "\n",
    "# Make list of models\n",
    "models = [algo_knn_user, similarity_algo_optimized_user,algo_knn_item,similarity_algo_optimized_item, algo_svd, svd_algo_optimized]\n",
    "\n",
    "\n",
    "for k in K:\n",
    "    for model in models:\n",
    "        print('> k={}, model={}'.format(k,model.__class__.__name__))\n",
    "        p = []\n",
    "        r = []\n",
    "        for trainset, testset in kf.split(data):\n",
    "            model.fit(trainset)\n",
    "            predictions = model.test(testset, verbose=False)\n",
    "            precisions, recalls = precision_recall_at_k(predictions, k=k, threshold=3.5)\n",
    "\n",
    "            # Precision and recall can then be averaged over all users\n",
    "            p.append(sum(prec for prec in precisions.values()) / len(precisions))\n",
    "            r.append(sum(rec for rec in recalls.values()) / len(recalls))\n",
    "        print('-----> Precision: ', round(sum(p) / len(p), 3))\n",
    "        print('-----> Recall: ', round(sum(r) / len(r), 3))"
   ]
  },
  {
   "cell_type": "markdown",
   "metadata": {
    "id": "yaxmgyx9ROlz"
   },
   "source": [
    "\n",
    "* Collaborative Filtering using user-user based interaction performed well in both the k values with Precision value ~84% (k=10) and with k=5, ~86%.\n",
    "\n",
    "* Tuned SVD has better RMSE than all models but Collaborative Filtering using user-user based interaction is also giving good results based on Precsion and recall @k for K=10. \n",
    "\n",
    "* The final model will denpend on the business requirements as whether they have to minimize RMSE or go with maximizing Precision/Recall. "
   ]
  },
  {
   "cell_type": "markdown",
   "metadata": {
    "id": "F3fP2JtQROl0"
   },
   "source": [
    "\n",
    "\n",
    "- User-based and Item-based Collaborative Models have nearly same. User based RMSE values (1.05) while the \"Item based\" model's RMSE is 1.06. Clearly, tuned Collaborative Filtering Models have performed better than baseline model and the user-user based tuned model is performing better and have  rmse of 0.9887\n",
    "\n",
    "- The Collaborative Models use the user-item-ratings data to find similarities and make predictions rather than just predicting a random rating based on the distribution of the data. This could a reason why the Collaborative filtering performed well.\n",
    "\n",
    "- Collaborative Filtering searches for neighbors based on similarity of item (example) preferences and recommend items that those neighbors interacted while Matrix factorization works by decomposing the user-item matrix into the product of two lower dimensionality rectangular matrices.\n",
    "\n",
    "- RMSE for Matrix Factorization (0.92) is better than the Collaborative Filtering Models (~1.00).\n",
    "- Tuning SVD matrix factorization model is not improving the base line SVD much.  \n",
    "- Matrix Factorization has lower RMSE due to the reason that it assumes that both items and users are present in some low dimensional space describing their properties and recommend a item based on its proximity to the user in the latent space. Implying it accounts for latent factors as well."
   ]
  },
  {
   "cell_type": "markdown",
   "metadata": {
    "id": "TgDOPCXOvOOM"
   },
   "source": [
    "### **Conclusions**"
   ]
  },
  {
   "cell_type": "markdown",
   "metadata": {
    "id": "WJ4L2PwQvOOM"
   },
   "source": [
    "We build 3 recommendation systems: \n",
    "- rank-based using averages\n",
    "- similarity-based collaborative filtering\n",
    "- model-based (matrix factorization) collaborative filtering"
   ]
  }
 ],
 "metadata": {
  "colab": {
   "collapsed_sections": [],
   "provenance": []
  },
  "kernelspec": {
   "display_name": "Python 3 (ipykernel)",
   "language": "python",
   "name": "python3"
  },
  "language_info": {
   "codemirror_mode": {
    "name": "ipython",
    "version": 3
   },
   "file_extension": ".py",
   "mimetype": "text/x-python",
   "name": "python",
   "nbconvert_exporter": "python",
   "pygments_lexer": "ipython3",
   "version": "3.9.7"
  }
 },
 "nbformat": 4,
 "nbformat_minor": 1
}
